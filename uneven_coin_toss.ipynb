{
 "cells": [
  {
   "cell_type": "code",
   "execution_count": 1,
   "metadata": {},
   "outputs": [],
   "source": [
    "# find probability range of an uneven coin toss with 8d% chance of head\n",
    "# confidence level 95%\n",
    "import time\n",
    "import pandas as pd\n",
    "import numpy as np\n",
    "import random\n",
    "n=10000\n",
    "df = pd.DataFrame(1, index=np.arange(n), columns=['col','value'])"
   ]
  },
  {
   "cell_type": "code",
   "execution_count": 6,
   "metadata": {},
   "outputs": [
    {
     "name": "stdout",
     "output_type": "stream",
     "text": [
      "17.064620971679688\n"
     ]
    }
   ],
   "source": [
    "start = time.time()\n",
    "l=[]\n",
    "for j in range(n):\n",
    "    s=0\n",
    "    for i in range(5000):\n",
    "        if random.uniform(0.0, 1.0)>0.85:\n",
    "            s=s+1\n",
    "    df.loc[j,['col']]=s/5000\n",
    "    \n",
    "end = time.time()\n",
    "print(end - start)"
   ]
  },
  {
   "cell_type": "code",
   "execution_count": 2,
   "metadata": {},
   "outputs": [
    {
     "name": "stdout",
     "output_type": "stream",
     "text": [
      "11.652836322784424\n"
     ]
    }
   ],
   "source": [
    "start = time.time()\n",
    "def p_HeadTail(s):\n",
    "    s=0\n",
    "    for i in range(5000):\n",
    "        if random.uniform(0.0, 1.0)>0.85:\n",
    "            s=s+1\n",
    "    return s/5000\n",
    "df.loc[0:n,['col']]=list(map(p_HeadTail, range(n)))\n",
    "\n",
    "end = time.time()\n",
    "print(end - start)"
   ]
  },
  {
   "cell_type": "code",
   "execution_count": 9,
   "metadata": {},
   "outputs": [
    {
     "name": "stdout",
     "output_type": "stream",
     "text": [
      "1.1558582782745361\n"
     ]
    }
   ],
   "source": [
    "from multiprocessing import Pool\n",
    "start = time.time()\n",
    "def p_HeadTail(s):\n",
    "    s=0\n",
    "    for i in range(5000):\n",
    "        if random.uniform(0.0, 1.0)>0.85:\n",
    "            s=s+1\n",
    "    return s/5000\n",
    "\n",
    "if __name__ == '__main__':\n",
    "    p = Pool(processes=32)\n",
    "    df.loc[0:n,['col']]=p.map(p_HeadTail, range(n))\n",
    "end = time.time()\n",
    "print(end - start)"
   ]
  },
  {
   "cell_type": "code",
   "execution_count": 7,
   "metadata": {},
   "outputs": [
    {
     "name": "stdout",
     "output_type": "stream",
     "text": [
      "14.875150680541992\n"
     ]
    }
   ],
   "source": [
    "start = time.time()\n",
    "def HeadTail(s):\n",
    "    s=1\n",
    "    p=random.uniform(0.0, 1.0)\n",
    "    if p>0.85:\n",
    "        s=0\n",
    "    return s\n",
    "def p_HeadTail(m):\n",
    "    list_HT=list(map(HeadTail, range(5000)))    \n",
    "    return sum(list_HT)/len(list_HT)\n",
    "df.loc[0:n,['col']]=list(map(p_HeadTail, range(n)))\n",
    "end = time.time()\n",
    "print(end - start)"
   ]
  },
  {
   "cell_type": "code",
   "execution_count": 8,
   "metadata": {},
   "outputs": [
    {
     "name": "stdout",
     "output_type": "stream",
     "text": [
      "1.5882525444030762\n"
     ]
    }
   ],
   "source": [
    "start = time.time()\n",
    "def HeadTail(s):\n",
    "    s=1\n",
    "    p=random.uniform(0.0, 1.0)\n",
    "    if p>0.85:\n",
    "        s=0\n",
    "    return s\n",
    "def p_HeadTail(m):\n",
    "    list_HT=list(map(HeadTail, range(5000)))    \n",
    "    return sum(list_HT)/len(list_HT)\n",
    "if __name__ == '__main__':\n",
    "    p = Pool(processes=32)\n",
    "    df.loc[0:n,['col']]=p.map(p_HeadTail, range(n))\n",
    "end = time.time()\n",
    "print(end - start)"
   ]
  },
  {
   "cell_type": "code",
   "execution_count": 10,
   "metadata": {},
   "outputs": [
    {
     "name": "stdout",
     "output_type": "stream",
     "text": [
      "1252.8189730644226\n"
     ]
    }
   ],
   "source": [
    "#fastest method\n",
    "import time\n",
    "import pandas as pd\n",
    "import numpy as np\n",
    "import random\n",
    "from multiprocessing import Pool\n",
    "n=20000000\n",
    "df = pd.DataFrame(1, index=np.arange(n), columns=['col','value'])\n",
    "\n",
    "start = time.time()\n",
    "def p_HeadTail(s):\n",
    "    s=0\n",
    "    for i in range(5000):\n",
    "        if random.uniform(0.0, 1.0)>0.85:\n",
    "            s=s+1\n",
    "    return s/5000\n",
    "\n",
    "if __name__ == '__main__':\n",
    "    p = Pool(processes=32)\n",
    "    df.loc[0:n,['col']]=p.map(p_HeadTail, range(n))\n",
    "end = time.time()\n",
    "print(end - start)"
   ]
  },
  {
   "cell_type": "code",
   "execution_count": 67,
   "metadata": {},
   "outputs": [],
   "source": [
    "import pandas as pd\n",
    "df = pd.DataFrame({'col':l})\n",
    "#df['col']=df['col'].astype(str)\n",
    "df['value']=1"
   ]
  },
  {
   "cell_type": "code",
   "execution_count": 11,
   "metadata": {},
   "outputs": [],
   "source": [
    "import numpy as np\n",
    "pivot_df=pd.pivot_table(df, aggfunc=len , values='value',index=['col']) #or np.sum"
   ]
  },
  {
   "cell_type": "code",
   "execution_count": 52,
   "metadata": {},
   "outputs": [
    {
     "name": "stdout",
     "output_type": "stream",
     "text": [
      "median: 0.15\n",
      "95% CI: (0.1402, 0.16)\n"
     ]
    }
   ],
   "source": [
    "from __future__ import division, print_function\n",
    "import numpy as np, scipy.stats as st\n",
    "\n",
    "# create custom discrete random variable from data set\n",
    "rv = st.rv_discrete(values=(np.asarray(pivot_df.index.tolist()), \\\n",
    "                            np.asarray(pivot_df['value'].tolist())/np.asarray(pivot_df['value'].tolist()).sum()))\n",
    "\n",
    "# scipy.stats.rv_discrete has methods for median, confidence interval, etc.\n",
    "print(\"median:\", rv.median())\n",
    "print(\"95% CI:\", rv.interval(0.95))"
   ]
  },
  {
   "cell_type": "code",
   "execution_count": 57,
   "metadata": {},
   "outputs": [
    {
     "data": {
      "text/plain": [
       "<Figure size 432x288 with 0 Axes>"
      ]
     },
     "metadata": {},
     "output_type": "display_data"
    },
    {
     "data": {
      "image/png": "[encoded data removed]",
      "text/plain": [
       "<Figure size 432x288 with 1 Axes>"
      ]
     },
     "metadata": {},
     "output_type": "display_data"
    }
   ],
   "source": [
    "import pandas as pd\n",
    "import numpy as np\n",
    "import statsmodels.stats.api as sms\n",
    "import matplotlib.pyplot as plt\n",
    "import scipy\n",
    "\n",
    "ci=rv.interval(0.95)\n",
    "# cnfidence interval left line\n",
    "one_x12, one_y12 = [ci[0],ci[0]], [0, 200000]\n",
    "# cnfidence interval right line\n",
    "two_x12, two_y12 = [ci[1],ci[1]], [0, 200000]\n",
    "plt.figure();\n",
    "pivot_df.plot();\n",
    "plt.legend(loc='best')\n",
    "plt.plot(one_x12, one_y12, two_x12, two_y12, marker = 'o')\n",
    "plt.show()"
   ]
  },
  {
   "cell_type": "code",
   "execution_count": null,
   "metadata": {},
   "outputs": [],
   "source": []
  }
 ],
 "metadata": {
  "kernelspec": {
   "display_name": "Python 3",
   "language": "python",
   "name": "python3"
  },
  "language_info": {
   "codemirror_mode": {
    "name": "ipython",
    "version": 3
   },
   "file_extension": ".py",
   "mimetype": "text/x-python",
   "name": "python",
   "nbconvert_exporter": "python",
   "pygments_lexer": "ipython3",
   "version": "3.7.2"
  }
 },
 "nbformat": 4,
 "nbformat_minor": 2
}
