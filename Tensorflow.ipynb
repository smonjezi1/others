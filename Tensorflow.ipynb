{
 "cells": [
  {
   "cell_type": "markdown",
   "metadata": {},
   "source": [
    "Image Classification with TensorFlow:"
   ]
  },
  {
   "cell_type": "markdown",
   "metadata": {},
   "source": [
    "We will be using the `CIFAR-10` data set.  It consists of 60,000 images, each $32\\times32$ color pixels, each belonging to one of ten classes. "
   ]
  },
  {
   "cell_type": "code",
   "execution_count": 1,
   "metadata": {},
   "outputs": [],
   "source": [
    "%matplotlib inline\n",
    "import matplotlib\n",
    "import seaborn as sns\n",
    "sns.set()\n",
    "matplotlib.rcParams['figure.dpi'] = 144"
   ]
  },
  {
   "cell_type": "code",
   "execution_count": 34,
   "metadata": {},
   "outputs": [],
   "source": [
    "import tensorflow as tf\n",
    "from tensorflow import keras\n",
    "from tensorflow.keras.datasets import cifar10\n",
    "(x_train, y_train), (x_test, y_test) = cifar10.load_data()\n",
    "x_train=x_train/256.0\n",
    "x_test=x_test/256.0"
   ]
  },
  {
   "cell_type": "code",
   "execution_count": 4,
   "metadata": {},
   "outputs": [
    {
     "data": {
      "text/plain": [
       "<matplotlib.image.AxesImage at 0x2498213a0f0>"
      ]
     },
     "execution_count": 4,
     "metadata": {},
     "output_type": "execute_result"
    },
    {
     "data": {
      "image/png": "[encoded data removed]",
      "text/plain": [
       "<Figure size 432x288 with 1 Axes>"
      ]
     },
     "metadata": {
      "needs_background": "light"
     },
     "output_type": "display_data"
    }
   ],
   "source": [
    "matplotlib.pyplot.rcParams[\"axes.grid\"] = False  #  Remove the grid lines from the image.\n",
    "matplotlib.pyplot.imshow(x_train[0])"
   ]
  },
  {
   "cell_type": "code",
   "execution_count": 5,
   "metadata": {},
   "outputs": [
    {
     "data": {
      "text/plain": [
       "(32, 32, 3)"
      ]
     },
     "execution_count": 5,
     "metadata": {},
     "output_type": "execute_result"
    }
   ],
   "source": [
    "x_train[0].shape"
   ]
  },
  {
   "cell_type": "code",
   "execution_count": 84,
   "metadata": {},
   "outputs": [],
   "source": [
    "label_names = ['airplane', 'automobile', 'bird', 'cat', 'deer',\n",
    "               'dog', 'frog', 'horse', 'ship', 'truck']"
   ]
  },
  {
   "cell_type": "code",
   "execution_count": 6,
   "metadata": {},
   "outputs": [],
   "source": [
    "import tensorflow as tf\n",
    "\n",
    "sess = None\n",
    "\n",
    "def reset_tf():\n",
    "    global sess\n",
    "    if sess:\n",
    "        sess.close()\n",
    "    tf.reset_default_graph()\n",
    "    sess = tf.Session()\n",
    "\n",
    "def reset_vars():\n",
    "    sess.run(tf.global_variables_initializer())\n",
    "    \n",
    "reset_tf()"
   ]
  },
  {
   "cell_type": "markdown",
   "metadata": {},
   "source": [
    "Perceptual Delta:"
   ]
  },
  {
   "cell_type": "code",
   "execution_count": 7,
   "metadata": {},
   "outputs": [],
   "source": [
    "def delta_func(images, base):\n",
    "    Ni,Nx,Ny,Nc=images.shape\n",
    "    dR=tf.subtract(images[0:Ni,:,:,0], base[:,:,0])\n",
    "    dG=tf.subtract(images[0:Ni,:,:,1], base[:,:,1])\n",
    "    dB=tf.subtract(images[0:Ni,:,:,2], base[:,:,2])\n",
    "    bR=tf.add(images[0:Ni,:,:,0], base[:,:,0])/2\n",
    "    dC=(2*dR**2+4*dG**2+3*dB**2+bR*(dR**2-dB**2))**0.5\n",
    "    dC=tf.reduce_mean(dC, axis=(1,2),)\n",
    "#    dC=dC.mean(axis=(1,2))\n",
    "    return dC"
   ]
  },
  {
   "cell_type": "code",
   "execution_count": 14,
   "metadata": {},
   "outputs": [
    {
     "data": {
      "text/plain": [
       "(32, 32, 3)"
      ]
     },
     "execution_count": 14,
     "metadata": {},
     "output_type": "execute_result"
    }
   ],
   "source": [
    "Ni,Nx,Ny,Nc=x_train.shape\n",
    "images = tf.placeholder(tf.float32, shape=(None,Nx,Ny,Nc))\n",
    "base = tf.placeholder(tf.float32, shape=(Nx,Ny,Nc))\n",
    "with tf.Session() as sess:\n",
    "    deltas = sess.run(delta_func(images,base), feed_dict={images: x_train,base:x_train[0]})\n",
    "\n",
    "x_test[0].shape"
   ]
  },
  {
   "cell_type": "code",
   "execution_count": 15,
   "metadata": {},
   "outputs": [
    {
     "data": {
      "text/plain": [
       "(32, 32, 3)"
      ]
     },
     "execution_count": 15,
     "metadata": {},
     "output_type": "execute_result"
    }
   ],
   "source": [
    "x_test[0].shape"
   ]
  },
  {
   "cell_type": "code",
   "execution_count": 16,
   "metadata": {},
   "outputs": [
    {
     "data": {
      "text/plain": [
       "0.8028495"
      ]
     },
     "execution_count": 16,
     "metadata": {},
     "output_type": "execute_result"
    }
   ],
   "source": [
    "deltas[1]"
   ]
  },
  {
   "cell_type": "code",
   "execution_count": 17,
   "metadata": {},
   "outputs": [
    {
     "data": {
      "text/plain": [
       "array([    0, 45702, 16244, 42549, 35877, 48216, 15673, 33378, 28732,\n",
       "       16603, 30466, 13972, 24646, 21167,  5583,  5017,  5166, 43118,\n",
       "        1184, 11582, 28594,  4637,    58, 10034, 16463, 46423, 42291,\n",
       "       15160, 24531, 14553,  6636,  7690, 41272, 19420,  9762,  9980,\n",
       "       48160, 36396, 39508, 14275, 49577, 38967, 33069, 44910, 12060,\n",
       "       35148, 46049, 14060, 19781, 46968, 34580,   692, 12003, 45739,\n",
       "       23064,  3944, 47631, 34777, 44207, 45721, 30041, 48243, 18251,\n",
       "        4805, 10958, 47846, 49364,  6940, 48937, 46539, 40610,  9087,\n",
       "       20439,  2654, 48447, 13770, 46800, 23698, 37865, 39452,  7277,\n",
       "        3797, 11254, 48804, 45334,  6548, 36112, 16478,  5111, 45801,\n",
       "        1968, 41749, 40473, 29097, 48208, 27478, 14857, 15578, 28600,\n",
       "        6461], dtype=int64)"
      ]
     },
     "execution_count": 17,
     "metadata": {},
     "output_type": "execute_result"
    }
   ],
   "source": [
    "import numpy as np\n",
    "np.argsort(deltas)[:100]"
   ]
  },
  {
   "cell_type": "markdown",
   "metadata": {},
   "source": [
    "Smallest delta model using an average(typical) image:"
   ]
  },
  {
   "cell_type": "code",
   "execution_count": 19,
   "metadata": {},
   "outputs": [
    {
     "name": "stdout",
     "output_type": "stream",
     "text": [
      "WARNING:tensorflow:From c:\\python\\python37\\lib\\site-packages\\tensorflow\\python\\framework\\op_def_library.py:263: colocate_with (from tensorflow.python.framework.ops) is deprecated and will be removed in a future version.\n",
      "Instructions for updating:\n",
      "Colocations handled automatically by placer.\n"
     ]
    }
   ],
   "source": [
    "Ni,Nx,Ny,Nc=x_test.shape\n",
    "typical=tf.Variable(tf.random_normal([Nx,Ny,Nc], stddev=.5, mean=.5)/2, dtype=np.float32)\n",
    "#typical = tf.Variable((((.5**2)*(np.random.randn(Nx,Ny,Nc))+1)/2), dtype=np.float32).initialized_value()typical = tf.Variable(...)"
   ]
  },
  {
   "cell_type": "code",
   "execution_count": 22,
   "metadata": {},
   "outputs": [],
   "source": [
    "def reset_vars():\n",
    "    sess.run(tf.global_variables_initializer())"
   ]
  },
  {
   "cell_type": "code",
   "execution_count": 24,
   "metadata": {},
   "outputs": [],
   "source": [
    "Ni,Nx,Ny,Nc=x_train.shape\n",
    "img = tf.placeholder(tf.float32, shape=(None,Nx,Ny,Nc))\n",
    "error = tf.reduce_mean(delta_func(img,typical))"
   ]
  },
  {
   "cell_type": "code",
   "execution_count": 27,
   "metadata": {},
   "outputs": [],
   "source": [
    "label = 6\n",
    "Ni,Nx,Ny,Nc=x_train.shape\n",
    "index=[]\n",
    "for i in range(Ni):\n",
    "    if y_train[i]==label:\n",
    "        index.append(i)\n",
    "ims =x_train[index,:,:,:].astype('float32')"
   ]
  },
  {
   "cell_type": "markdown",
   "metadata": {},
   "source": [
    "gradient descent optimizer:"
   ]
  },
  {
   "cell_type": "code",
   "execution_count": 28,
   "metadata": {},
   "outputs": [
    {
     "name": "stdout",
     "output_type": "stream",
     "text": [
      "WARNING:tensorflow:From c:\\python\\python37\\lib\\site-packages\\tensorflow\\python\\ops\\math_ops.py:3066: to_int32 (from tensorflow.python.ops.math_ops) is deprecated and will be removed in a future version.\n",
      "Instructions for updating:\n",
      "Use tf.cast instead.\n"
     ]
    }
   ],
   "source": [
    "import tensorflow as tf\n",
    "eta = 1\n",
    "optimizer=tf.train.AdamOptimizer(eta)\n",
    "#optimizer = tf.train.GradientDescentOptimizer(eta)\n",
    "train = optimizer.minimize(error)"
   ]
  },
  {
   "cell_type": "code",
   "execution_count": 29,
   "metadata": {},
   "outputs": [],
   "source": [
    "with tf.Session() as sess:\n",
    "    reset_vars()\n",
    "    for _ in range(20):\n",
    "        sess.run(train, feed_dict={img: ims})\n",
    "    typical6=typical.eval()"
   ]
  },
  {
   "cell_type": "code",
   "execution_count": 30,
   "metadata": {},
   "outputs": [
    {
     "data": {
      "image/png": "[encoded data removed]",
      "text/plain": [
       "<Figure size 432x288 with 1 Axes>"
      ]
     },
     "metadata": {
      "needs_background": "light"
     },
     "output_type": "display_data"
    }
   ],
   "source": [
    "#best e=30, rnge(30)\n",
    "etas = [30,40]\n",
    "errors = []\n",
    "BATCH_SIZE = 100\n",
    "EPOCHS = 30\n",
    "for e in etas:\n",
    "    with tf.Session() as sess:\n",
    "        reset_vars()\n",
    "        #optimizer=tf.train.AdamOptimizer(e)\n",
    "        optimizer = tf.train.GradientDescentOptimizer(e)  # learning rate\n",
    "        train = optimizer.minimize(error)\n",
    "        errors.append([sess.run(error, feed_dict={img: ims})])\n",
    "        for i in range(EPOCHS):\n",
    "            sess.run(train, feed_dict={img: ims})\n",
    "            errors[-1].append(sess.run(error, feed_dict={img: ims}))\n",
    "import numpy as np\n",
    "import tensorflow as tf\n",
    "import matplotlib.pyplot as plt\n",
    "\n",
    "import expectexception\n",
    "plt.plot(np.array(errors).T, '.-')\n",
    "plt.legend(etas, title=r'$\\eta$')\n",
    "plt.xlabel('step')\n",
    "plt.ylabel('loss');"
   ]
  },
  {
   "cell_type": "code",
   "execution_count": 108,
   "metadata": {},
   "outputs": [
    {
     "data": {
      "image/png": "[encoded data removed]",
      "text/plain": [
       "<Figure size 432x288 with 4 Axes>"
      ]
     },
     "metadata": {
      "needs_background": "light"
     },
     "output_type": "display_data"
    }
   ],
   "source": [
    "frogs = np.where(train_labels == 6)[0]   #  Get the indices for the frogs\n",
    "\n",
    "fig, ax = matplotlib.pyplot.subplots(2, 2)\n",
    "for i in range(4):\n",
    "    np.ravel(ax)[i].imshow(train_images[ frogs[i] ])\n",
    "\n",
    "matplotlib.pyplot.show()"
   ]
  },
  {
   "cell_type": "markdown",
   "metadata": {},
   "source": [
    "Convolutional model:"
   ]
  },
  {
   "cell_type": "code",
   "execution_count": 36,
   "metadata": {
    "scrolled": true
   },
   "outputs": [
    {
     "name": "stdout",
     "output_type": "stream",
     "text": [
      "Step 1, Minibatch Loss= 115193.8594, Training Accuracy= 0.070\n",
      "Step 100, Minibatch Loss= 14627.1240, Training Accuracy= 0.120\n",
      "Step 200, Minibatch Loss= 873.4044, Training Accuracy= 0.290\n",
      "Step 300, Minibatch Loss= 232.7632, Training Accuracy= 0.340\n",
      "Step 400, Minibatch Loss= 120.9584, Training Accuracy= 0.250\n",
      "Step 500, Minibatch Loss= 93.6843, Training Accuracy= 0.265\n",
      "Optimization Finished!\n"
     ]
    }
   ],
   "source": [
    "from tensorflow.keras.utils import to_categorical as one_hot\n",
    "# Parameters\n",
    "learning_rate = 0.1\n",
    "num_steps = 500\n",
    "batch_size = 200\n",
    "display_step = 100\n",
    "\n",
    "# Network Parameters\n",
    "n_hidden_1 = 256 # 1st layer number of neurons\n",
    "n_hidden_2 = 256 # 2nd layer number of neurons\n",
    "num_input = 32*32*3 # MNIST data input (img shape: 32*32)\n",
    "num_classes = 10 # MNIST total classes (0-9 digits)\n",
    "\n",
    "# tf Graph input\n",
    "X = tf.placeholder(\"float\", [None, num_input])\n",
    "Y = tf.placeholder(\"float\", [None, num_classes])\n",
    "\n",
    "X_train1=x_train.reshape(len(x_train), -1)\n",
    "X_test1=x_test.reshape(len(x_test), -1)\n",
    "\n",
    "y_train1 = one_hot(y_train)\n",
    "#y_test1  = one_hot(y_test)\n",
    "\n",
    "\n",
    "def next_batch(num, data, labels):\n",
    "    '''\n",
    "    Return a total of `num` random samples and labels. \n",
    "    '''\n",
    "    idx = np.arange(0 , len(data))\n",
    "    np.random.shuffle(idx)\n",
    "    idx = idx[:num]\n",
    "    data_shuffle = [data[ i] for i in idx]\n",
    "    labels_shuffle = [labels[ i] for i in idx]\n",
    "\n",
    "    return np.asarray(data_shuffle), np.asarray(labels_shuffle)\n",
    "\n",
    "# Store layers weight & bias\n",
    "weights = {\n",
    "    'h1': tf.Variable(tf.random_normal([num_input, n_hidden_1])),\n",
    "    'h2': tf.Variable(tf.random_normal([n_hidden_1, n_hidden_2])),\n",
    "    'out': tf.Variable(tf.random_normal([n_hidden_2, num_classes]))\n",
    "}\n",
    "biases = {\n",
    "    'b1': tf.Variable(tf.random_normal([n_hidden_1])),\n",
    "    'b2': tf.Variable(tf.random_normal([n_hidden_2])),\n",
    "    'out': tf.Variable(tf.random_normal([num_classes]))\n",
    "}\n",
    "\n",
    "# Create model\n",
    "def neural_net(x):\n",
    "    # Hidden fully connected layer with 256 neurons\n",
    "    layer_1 = tf.add(tf.matmul(x, weights['h1']), biases['b1'])\n",
    "    # Hidden fully connected layer with 256 neurons\n",
    "    layer_2 = tf.add(tf.matmul(layer_1, weights['h2']), biases['b2'])\n",
    "    # Output fully connected layer with a neuron for each class\n",
    "    out_layer = tf.matmul(layer_2, weights['out']) + biases['out']\n",
    "    return out_layer\n",
    "\n",
    "# Construct model\n",
    "logits = neural_net(X)\n",
    "\n",
    "# Define loss and optimizer\n",
    "loss_op = tf.reduce_mean(tf.nn.softmax_cross_entropy_with_logits(\n",
    "    logits=logits, labels=Y))\n",
    "optimizer = tf.train.AdamOptimizer(learning_rate=learning_rate)\n",
    "train_op = optimizer.minimize(loss_op)\n",
    "\n",
    "# Evaluate model (with test logits, for dropout to be disabled)\n",
    "correct_pred = tf.equal(tf.argmax(logits, 1), tf.argmax(Y, 1))\n",
    "accuracy = tf.reduce_mean(tf.cast(correct_pred, tf.float32))\n",
    "\n",
    "# Initialize the variables (i.e. assign their default value)\n",
    "init = tf.global_variables_initializer()\n",
    "\n",
    "# Start training\n",
    "with tf.Session() as sess:\n",
    "    # Run the initializer\n",
    "    sess.run(init)\n",
    "\n",
    "    for step in range(1, num_steps+1):\n",
    "#        batch_x, batch_y = mnist.train.next_batch(batch_size)\n",
    "        batch_x, batch_y=next_batch(batch_size,X_train1, y_train1)\n",
    "        # Run optimization op (backprop)\n",
    "        sess.run(train_op, feed_dict={X: batch_x, Y: batch_y})\n",
    "        if step % display_step == 0 or step == 1:\n",
    "            # Calculate batch loss and accuracy\n",
    "            loss, acc = sess.run([loss_op, accuracy], feed_dict={X: batch_x,\n",
    "                                                                 Y: batch_y})\n",
    "            print(\"Step \" + str(step) + \", Minibatch Loss= \" + \\\n",
    "                  \"{:.4f}\".format(loss) + \", Training Accuracy= \" + \\\n",
    "                  \"{:.3f}\".format(acc))\n",
    "\n",
    "    print(\"Optimization Finished!\")\n",
    "\n",
    "    # Calculate accuracy for MNIST test images\n",
    "#    print(\"Testing Accuracy:\", \\\n",
    "#        sess.run(accuracy, feed_dict={X: mnist.test.images,\n",
    "#                                      Y: mnist.test.labels}))"
   ]
  },
  {
   "cell_type": "markdown",
   "metadata": {},
   "source": [
    "using keras:"
   ]
  },
  {
   "cell_type": "code",
   "execution_count": 37,
   "metadata": {},
   "outputs": [
    {
     "name": "stdout",
     "output_type": "stream",
     "text": [
      "WARNING:tensorflow:From c:\\python\\python37\\lib\\site-packages\\tensorflow\\python\\keras\\layers\\core.py:143: calling dropout (from tensorflow.python.ops.nn_ops) with keep_prob is deprecated and will be removed in a future version.\n",
      "Instructions for updating:\n",
      "Please use `rate` instead of `keep_prob`. Rate should be set to `rate = 1 - keep_prob`.\n",
      "50000/50000 [==============================] - 36s 728us/sample - loss: 1.9159 - acc: 0.3085\n"
     ]
    }
   ],
   "source": [
    "#keras\n",
    "import numpy as np\n",
    "import tensorflow as tf\n",
    "from tensorflow import keras\n",
    "\n",
    "import matplotlib.pyplot as plt\n",
    "\n",
    "import time\n",
    "from datetime import datetime, timedelta\n",
    "#import pylib\n",
    "#import pylib.conv_widget as cw\n",
    "#from pylib.tensorboardcmd import tensorboard_cmd\n",
    "from tensorflow.keras.utils import to_categorical as one_hot\n",
    "\n",
    "X_train1=x_train.reshape(len(x_train), -1)\n",
    "X_test1=x_test.reshape(len(x_test), -1)\n",
    "#X_train=x_train\n",
    "#X_test=x_test\n",
    "y_train_2 = one_hot(y_train)\n",
    "y_test_2  = one_hot(y_test)\n",
    "\n",
    "img_size = 32\n",
    "img_size_flat = img_size * img_size\n",
    "img_shape = (img_size, img_size)\n",
    "\n",
    "n_classes = 10\n",
    "n_channels = 1\n",
    "filt_size = [5, 5] # 5x5 pixel filters\n",
    "\n",
    "batch_size = 100\n",
    "n_epochs = 1\n",
    "model = keras.models.Sequential()\n",
    "\n",
    "model.add(keras.layers.Reshape([img_size, img_size, 3]))\n",
    "model.add(keras.layers.Conv2D(16, filt_size, padding='same',\n",
    "                              activation='relu'))\n",
    "#                            activation='softmax'))\n",
    "model.add(keras.layers.MaxPooling2D(pool_size=(2, 2), strides=(2,2),\n",
    "                                    padding='valid'))#padding='same'))\n",
    "model.add(keras.layers.Flatten())\n",
    "#model.add(keras.layers.Dense(1024, activation='sigmoid'))\n",
    "model.add(keras.layers.Dense(1024, activation='relu'))\n",
    "model.add(keras.layers.Dense(1024, activation='relu'))\n",
    "model.add(keras.layers.Dense(512, activation='relu'))\n",
    "model.add(keras.layers.Dropout(.5))\n",
    "model.add(keras.layers.Dense(n_classes, activation='softmax'))\n",
    "#model.add(keras.layers.Dense(n_classes, activation='sigmoid'))\n",
    "#model.add(keras.layers.Dense(n_classes, activation='relu'))\n",
    "#model.compile(loss='mean_squared_error',\n",
    "model.compile(loss='categorical_crossentropy',\n",
    "              optimizer=keras.optimizers.SGD(lr=.1),\n",
    "#optimizer=keras.optimizers.Adam(lr=0.01), #works with relu\n",
    "              metrics=['accuracy'],\n",
    "              target_tensors=[y_train_2])\n",
    "\n",
    "history = model.fit(X_train1, y_train_2,\n",
    "                    epochs=n_epochs,\n",
    "                    batch_size=batch_size)"
   ]
  },
  {
   "cell_type": "code",
   "execution_count": 9,
   "metadata": {},
   "outputs": [
    {
     "name": "stdout",
     "output_type": "stream",
     "text": [
      "10000/10000 [==============================] - 4s 363us/sample - loss: 147.4514 - acc: 0.0710\n"
     ]
    },
    {
     "data": {
      "text/plain": [
       "[147.45144267578124, 0.071]"
      ]
     },
     "execution_count": 9,
     "metadata": {},
     "output_type": "execute_result"
    }
   ],
   "source": [
    "model.evaluate(X_test, y_test)"
   ]
  },
  {
   "cell_type": "markdown",
   "metadata": {},
   "source": [
    "convolution model:"
   ]
  },
  {
   "cell_type": "code",
   "execution_count": 19,
   "metadata": {},
   "outputs": [
    {
     "name": "stdout",
     "output_type": "stream",
     "text": [
      "Train on 50000 samples, validate on 10000 samples\n",
      "Train on 50000 samples, validate on 10000 samples\n",
      "Epoch 1/8\n",
      "Epoch 1/8\n",
      "50000/50000 [==============================] - 75s 2ms/sample - loss: 1.9153 - acc: 0.3168 - val_loss: 1.7765 - val_acc: 0.3734\n",
      "50000/50000 [==============================] - 75s 2ms/sample - loss: 1.9153 - acc: 0.3168 - val_loss: 1.7765 - val_acc: 0.3734\n",
      "Epoch 2/8\n",
      "  100/50000 [..............................] - ETA: 1:14 - loss: 1.7985 - acc: 0.3100Epoch 2/8\n",
      "50000/50000 [==============================] - 74s 1ms/sample - loss: 1.4286 - acc: 0.4960 - val_loss: 1.2839 - val_acc: 0.5476\n",
      "50000/50000 [==============================] - 74s 1ms/sample - loss: 1.4286 - acc: 0.4960 - val_loss: 1.2839 - val_acc: 0.5476\n",
      "Epoch 3/8\n",
      "  100/50000 [..............................] - ETA: 1:11 - loss: 1.3055 - acc: 0.5600Epoch 3/8\n",
      "50000/50000 [==============================] - 74s 1ms/sample - loss: 1.1865 - acc: 0.5860 - val_loss: 1.0687 - val_acc: 0.6284\n",
      "50000/50000 [==============================] - 74s 1ms/sample - loss: 1.1865 - acc: 0.5860 - val_loss: 1.0687 - val_acc: 0.6284\n",
      "Epoch 4/8\n",
      "  100/50000 [..............................] - ETA: 1:09 - loss: 0.9889 - acc: 0.6700Epoch 4/8\n",
      "50000/50000 [==============================] - 74s 1ms/sample - loss: 1.0363 - acc: 0.6407 - val_loss: 1.0422 - val_acc: 0.6417\n",
      "50000/50000 [==============================] - 74s 1ms/sample - loss: 1.0363 - acc: 0.6407 - val_loss: 1.0422 - val_acc: 0.6417\n",
      "Epoch 5/8\n",
      "  100/50000 [..............................] - ETA: 1:07 - loss: 0.8119 - acc: 0.7400Epoch 5/8\n",
      "50000/50000 [==============================] - 73s 1ms/sample - loss: 0.9242 - acc: 0.6811 - val_loss: 0.9412 - val_acc: 0.6798\n",
      "50000/50000 [==============================] - 73s 1ms/sample - loss: 0.9242 - acc: 0.6811 - val_loss: 0.9412 - val_acc: 0.6798\n",
      "Epoch 6/8\n",
      "  100/50000 [..............................] - ETA: 1:09 - loss: 0.8423 - acc: 0.6900Epoch 6/8\n",
      "50000/50000 [==============================] - 73s 1ms/sample - loss: 0.8505 - acc: 0.7057 - val_loss: 0.9277 - val_acc: 0.6811\n",
      "50000/50000 [==============================] - 73s 1ms/sample - loss: 0.8505 - acc: 0.7057 - val_loss: 0.9277 - val_acc: 0.6811\n",
      "Epoch 7/8\n",
      "  100/50000 [..............................] - ETA: 1:08 - loss: 0.6823 - acc: 0.7400Epoch 7/8\n",
      "50000/50000 [==============================] - 73s 1ms/sample - loss: 0.7823 - acc: 0.7287 - val_loss: 0.8844 - val_acc: 0.6962\n",
      "50000/50000 [==============================] - 73s 1ms/sample - loss: 0.7823 - acc: 0.7287 - val_loss: 0.8844 - val_acc: 0.6962\n",
      "Epoch 8/8\n",
      "  100/50000 [..............................] - ETA: 1:07 - loss: 0.7474 - acc: 0.6900Epoch 8/8\n",
      "50000/50000 [==============================] - 73s 1ms/sample - loss: 0.7225 - acc: 0.7479 - val_loss: 0.9141 - val_acc: 0.6939\n",
      "50000/50000 [==============================] - 73s 1ms/sample - loss: 0.7225 - acc: 0.7479 - val_loss: 0.9141 - val_acc: 0.6939\n"
     ]
    }
   ],
   "source": [
    "#convolution\n",
    "import numpy as np\n",
    "import tensorflow as tf\n",
    "from tensorflow import keras\n",
    "\n",
    "import matplotlib.pyplot as plt\n",
    "\n",
    "import time\n",
    "from datetime import datetime, timedelta\n",
    "#import pylib\n",
    "#import pylib.conv_widget as cw\n",
    "#from pylib.tensorboardcmd import tensorboard_cmd\n",
    "from tensorflow.keras.utils import to_categorical as one_hot\n",
    "\n",
    "#X_train=train_images.reshape(len(train_images), -1)\n",
    "#X_test=validation_images.reshape(len(validation_images), -1)\n",
    "X_train=x_train\n",
    "X_test=x_test\n",
    "y_train_2 = one_hot(y_train)\n",
    "y_test_2  = one_hot(y_test)\n",
    "\n",
    "img_size = 32\n",
    "img_size_flat = img_size * img_size\n",
    "img_shape = (img_size, img_size)\n",
    "\n",
    "n_classes = 10\n",
    "n_channels = 1\n",
    "filt_size1 = [3, 3] \n",
    "filt_size2 = [5, 5] # 5x5 pixel filters\n",
    "\n",
    "batch_size = 50\n",
    "n_epochs = 8\n",
    "model = keras.models.Sequential()\n",
    "\n",
    "#model.add(keras.layers.Reshape([img_size, img_size, 3]))\n",
    "model.add(keras.layers.Dense(16, activation='relu'))\n",
    "model.add(keras.layers.Conv2D(32, filt_size1, padding='same',\n",
    "                              activation='relu'))\n",
    "#                            activation='softmax'))\n",
    "model.add(keras.layers.MaxPooling2D(pool_size=(2, 2), strides=(2,2),\n",
    "                                    padding='valid'))#padding='same'))\n",
    "model.add(keras.layers.Conv2D(64, filt_size2, padding='same',\n",
    "                              activation='relu'))\n",
    "model.add(keras.layers.Flatten())\n",
    "#model.add(keras.layers.Dense(1024, activation='sigmoid'))\n",
    "#model.add(keras.layers.Dense(1024, activation='relu'))\n",
    "#model.add(keras.layers.Dense(1024, activation='relu'))\n",
    "#model.add(keras.layers.Dense(512, activation='relu'))\n",
    "model.add(keras.layers.Dropout(.3))\n",
    "model.add(keras.layers.Dense(n_classes, activation='softmax'))\n",
    "#model.add(keras.layers.Dense(n_classes, activation='sigmoid'))\n",
    "#model.add(keras.layers.Dense(n_classes, activation='relu'))\n",
    "#model.compile(loss='mean_squared_error',\n",
    "model.compile(loss='categorical_crossentropy',\n",
    "              optimizer=keras.optimizers.SGD(lr=.1),\n",
    "#              optimizer=keras.optimizers.Adam(lr=0.01), #works with relu\n",
    "              metrics=['accuracy'],\n",
    "              target_tensors=[y_train_2])\n",
    "\n",
    "history = model.fit(X_train, y_train_2,\n",
    "                    epochs=n_epochs,\n",
    "                    batch_size=batch_size,\n",
    "                   validation_data=(X_test, y_test_2))"
   ]
  }
 ],
 "metadata": {
  "kernelspec": {
   "display_name": "Python 3",
   "language": "python",
   "name": "python3"
  },
  "language_info": {
   "codemirror_mode": {
    "name": "ipython",
    "version": 3
   },
   "file_extension": ".py",
   "mimetype": "text/x-python",
   "name": "python",
   "nbconvert_exporter": "python",
   "pygments_lexer": "ipython3",
   "version": "3.7.2"
  },
  "nbclean": true
 },
 "nbformat": 4,
 "nbformat_minor": 1
}
