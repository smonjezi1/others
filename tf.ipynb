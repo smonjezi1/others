{
 "cells": [
  {
   "cell_type": "code",
   "execution_count": 1,
   "metadata": {},
   "outputs": [],
   "source": [
    "%matplotlib inline\n",
    "import matplotlib\n",
    "import seaborn as sns\n",
    "sns.set()\n",
    "matplotlib.rcParams['figure.dpi'] = 144"
   ]
  },
  {
   "cell_type": "code",
   "execution_count": 2,
   "metadata": {},
   "outputs": [],
   "source": [
    "from static_grader import grader"
   ]
  },
  {
   "cell_type": "markdown",
   "metadata": {},
   "source": [
    "# Image Classification with TensorFlow"
   ]
  },
  {
   "cell_type": "markdown",
   "metadata": {},
   "source": [
    "Image classification is a common task for deep learning and neural networks.  The raw features coming in are the pixel values.  These are simple enough to deal with, but it is difficult to connect pixel values to determining whether an image is of a cat.  Older methods used a lot of clever filters, but the current best-of-breed algorithms simply throw a lot of linear algebra at the problem.\n",
    "\n",
    "In this miniproject, you build a series of models to classify a series of images into one of ten classes. For expediency, these images are pretty small ($32\\times32\\times3$).  This can make classification a bit tricky&mdash;human performance is only about 94%.  Each of your models will be scored by comparing its accuracy to the accuracy of a reference model that we developed.  A score of 1 indicates that your model performs as well as the reference model; not that your accuracy is 100%!\n",
    "\n",
    "You will be given both a training set and a validation set.  Ground truth values are provided for the training set.  You should train your models on this set, and then make predictions for each of the validation images.  These predictions will be submitted to the grader."
   ]
  },
  {
   "cell_type": "markdown",
   "metadata": {},
   "source": [
    "## A note on scoring"
   ]
  },
  {
   "cell_type": "markdown",
   "metadata": {},
   "source": [
    "It **is** possible to score above 1 on these questions. This indicates that you've beaten our reference model&mdash;we compare our model's score on a test set to your score on a test set. See how high you can go!"
   ]
  },
  {
   "cell_type": "markdown",
   "metadata": {},
   "source": [
    "## Downloading the data"
   ]
  },
  {
   "cell_type": "markdown",
   "metadata": {},
   "source": [
    "We will be using the `CIFAR-10` data set.  It consists of 60,000 images, each $32\\times32$ color pixels, each belonging to one of ten classes.  The following cell will download the data, in NumPy's `.npy` format."
   ]
  },
  {
   "cell_type": "code",
   "execution_count": 1,
   "metadata": {},
   "outputs": [],
   "source": [
    "!aws s3 sync s3://dataincubator-course/cifar10/ ."
   ]
  },
  {
   "cell_type": "markdown",
   "metadata": {},
   "source": [
    "We can load in the data like so:"
   ]
  },
  {
   "cell_type": "code",
   "execution_count": 2,
   "metadata": {},
   "outputs": [],
   "source": [
    "import numpy as np\n",
    "\n",
    "train_images = np.load(open('train_images.npy', 'rb'))\n",
    "train_labels = np.load(open('train_labels.npy', 'rb'))\n",
    "validation_images = np.load(open('validation_images.npy', 'rb'))"
   ]
  },
  {
   "cell_type": "markdown",
   "metadata": {},
   "source": [
    "The images are stored as four-dimensional arrays.  The first index indicates the image number, the second and third the $x$ and $y$ positions, and the fourth index the color channel.  Each pixel color is a floating point number between 0 and 1.  This convention allows us to view the images with matplotlib:"
   ]
  },
  {
   "cell_type": "code",
   "execution_count": 5,
   "metadata": {},
   "outputs": [
    {
     "data": {
      "text/plain": [
       "<matplotlib.image.AxesImage at 0x7f6edb09a208>"
      ]
     },
     "execution_count": 5,
     "metadata": {},
     "output_type": "execute_result"
    },
    {
     "data": {
      "image/png": "[encoded data removed]",
      "text/plain": [
       "<Figure size 432x288 with 1 Axes>"
      ]
     },
     "metadata": {},
     "output_type": "display_data"
    }
   ],
   "source": [
    "matplotlib.pyplot.rcParams[\"axes.grid\"] = False  #  Remove the grid lines from the image.\n",
    "matplotlib.pyplot.imshow(train_images[0])"
   ]
  },
  {
   "cell_type": "markdown",
   "metadata": {},
   "source": [
    "The classes have already been numbered 0-9 for us; those numbers are stored in the vector `train_labels`."
   ]
  },
  {
   "cell_type": "code",
   "execution_count": 6,
   "metadata": {},
   "outputs": [
    {
     "data": {
      "text/plain": [
       "6"
      ]
     },
     "execution_count": 6,
     "metadata": {},
     "output_type": "execute_result"
    }
   ],
   "source": [
    "train_labels[0]"
   ]
  },
  {
   "cell_type": "markdown",
   "metadata": {},
   "source": [
    "The human-readable names associated with this classes are"
   ]
  },
  {
   "cell_type": "code",
   "execution_count": 4,
   "metadata": {},
   "outputs": [],
   "source": [
    "label_names = ['airplane', 'automobile', 'bird', 'cat', 'deer',\n",
    "               'dog', 'frog', 'horse', 'ship', 'truck']"
   ]
  },
  {
   "cell_type": "code",
   "execution_count": 40,
   "metadata": {},
   "outputs": [
    {
     "data": {
      "text/plain": [
       "array([6, 9, 9, ..., 9, 1, 1])"
      ]
     },
     "execution_count": 40,
     "metadata": {},
     "output_type": "execute_result"
    }
   ],
   "source": [
    "train_labels"
   ]
  },
  {
   "cell_type": "markdown",
   "metadata": {},
   "source": [
    "So we can see that the image above is a frog.  (Now you see it!)"
   ]
  },
  {
   "cell_type": "markdown",
   "metadata": {},
   "source": [
    "## TensorFlow resets"
   ]
  },
  {
   "cell_type": "markdown",
   "metadata": {},
   "source": [
    "The cell below includes the same reset code we use in the rest of module.  You're welcome to use it if it's helpful, but it's not necessary."
   ]
  },
  {
   "cell_type": "code",
   "execution_count": 5,
   "metadata": {},
   "outputs": [],
   "source": [
    "import tensorflow as tf\n",
    "\n",
    "sess = None\n",
    "\n",
    "def reset_tf():\n",
    "    global sess\n",
    "    if sess:\n",
    "        sess.close()\n",
    "    tf.reset_default_graph()\n",
    "    sess = tf.Session()\n",
    "\n",
    "def reset_vars():\n",
    "    sess.run(tf.global_variables_initializer())\n",
    "    \n",
    "reset_tf()"
   ]
  },
  {
   "cell_type": "markdown",
   "metadata": {},
   "source": [
    "# Questions"
   ]
  },
  {
   "cell_type": "markdown",
   "metadata": {},
   "source": [
    "## Perceptual Delta"
   ]
  },
  {
   "cell_type": "markdown",
   "metadata": {},
   "source": [
    "Since we already have a number of labeled images, a simple approach would be to measure the difference between two images, and choose the label corresponding to nearby images.  To do this, we need to develop a metric to determine the distance between two images.  We'll make the simplifying (and completely wrong) assumption that this is just the average difference between the colors of the corresponding pixels in the two images.\n",
    "\n",
    "While we could just take RMS difference of the red, green, and blue pixels, let's be slightly more sophisticated and look at human vision for a metric.  After all, we're pretty good at image classifications, so there might be some useful optimization here.\n",
    "\n",
    "It turns out that modeling human perception is [extraordinarily complicated](https://en.wikipedia.org/wiki/Color_difference#CIEDE2000).  We're going to use a [simplified model](https://www.compuphase.com/cmetric.htm):\n",
    "\n",
    "$$\\Delta C \\equiv \\sqrt{2 \\Delta R^2 + 4 \\Delta G^2 + 3 \\Delta B^2 + \\bar R\\left(\\Delta R^2 - \\Delta B^2 \\right)} $$\n",
    "where $(R_1, G_1, B_1)$ and $(R_2, G_2, B_2)$ are the RGB components of the two colors and\n",
    "$$\\begin{align}\n",
    "\\Delta R &= R_1 - R_2 \\\\\n",
    "\\Delta G &= G_1 - G_2 \\\\\n",
    "\\Delta B &= B_1 - B_2 \\\\\n",
    "\\bar R &= \\textstyle\\frac{1}{2}\\left(R_1 + R_2\\right)\n",
    "\\end{align}$$\n",
    "\n",
    "This accounts for the fact that our eyes are most sensitive to green and least sensitive to red, and that perception is not constant with hue.\n",
    "\n",
    "Build a graph that takes in a series of images, as well as a base image, and returns a result containing the $\\Delta C$ value (for each pixel) between the base image and each image in the series.  \n",
    "\n",
    "(Note that the intention here in our solution is that `images` will be a TensorFlow placeholder that can, for example, contain the entire set of training images, while `base` is another TensorFlow placeholder that contains a single image.  Since the inputs are TensorFlow placeholders, the output from this function will be a tensor, hence our use of the word \"graph\" for the output.)  "
   ]
  },
  {
   "cell_type": "code",
   "execution_count": 5,
   "metadata": {},
   "outputs": [],
   "source": [
    "import math\n",
    "def delta_func(images, base):\n",
    "    Ni,Nx,Ny,Nc=images.shape\n",
    "    dR=tf.subtract(images[0:Ni,:,:,0], base[:,:,0])\n",
    "    dG=tf.subtract(images[0:Ni,:,:,1], base[:,:,1])\n",
    "    dB=tf.subtract(images[0:Ni,:,:,2], base[:,:,2])\n",
    "    bR=tf.add(images[0:Ni,:,:,0], base[:,:,0])/2\n",
    "    dC=(2*dR**2+4*dG**2+3*dB**2+bR*(dR**2-dB**2))**0.5\n",
    "    dC=tf.reduce_mean(dC, axis=(1,2),)\n",
    "#    dC=dC.mean(axis=(1,2))\n",
    "    return dC\n",
    "#delta_func(train_images[1:,:,:,:], train_images[0,:,:,:])"
   ]
  },
  {
   "cell_type": "markdown",
   "metadata": {},
   "source": [
    "As stated, for two images, $I_1$ and $I_2$, we define the distance between $I_1$ and $I_2$ as the average $\\Delta C$ value over the whole image, that is:\n",
    "\n",
    "$$d(I_1, I_2) = \\frac{1}{N}\\sum_{p_j} \\Delta C(p_j)$$\n",
    "where the sum is over all pixels $p_j$, $\\Delta C(p_2)$ is the $\\Delta C$ value for the pixel $p_j$, and $N$ is the total number of pixels in each image ($N= 32\\times 32$ in our case).  \n",
    "\n",
    "So use `delta_func` to define a graph that takes a series of images and a base image and returns the distance (the average $\\Delta C$ value) between the base image and each image in the series.  First we need to define the TensorFlow placeholders `images` and `base` that will contain, respectively, a set of images and a single image.  "
   ]
  },
  {
   "cell_type": "code",
   "execution_count": 43,
   "metadata": {},
   "outputs": [],
   "source": [
    "Ni,Nx,Ny,Nc=train_images.shape\n",
    "images = tf.placeholder(tf.float32, shape=(Ni,Nx,Ny,Nc))\n",
    "base = tf.placeholder(tf.float32, shape=(Nx,Ny,Nc))\n",
    "with tf.Session() as sess:\n",
    "    deltas = sess.run(delta_func(images,base), feed_dict={images: train_images,base:validation_images[0,:,:,:]})"
   ]
  },
  {
   "cell_type": "code",
   "execution_count": 50,
   "metadata": {},
   "outputs": [],
   "source": [
    "indices=np.argsort(deltas)[:100]"
   ]
  },
  {
   "cell_type": "markdown",
   "metadata": {},
   "source": [
    "Now, compute the distance between the first validation image and all of the training images.\n",
    "\n",
    "**Checkpoint:** The mean value of the distances is 1.159, and the standard deviation of the distances is 0.182."
   ]
  },
  {
   "cell_type": "markdown",
   "metadata": {},
   "source": [
    "From these, find the 100 closest images from the training set to this image.  (Note that `numpy.argsort` might help here.)  Submit a list of the indices of these images to the grader."
   ]
  },
  {
   "cell_type": "code",
   "execution_count": 51,
   "metadata": {},
   "outputs": [
    {
     "name": "stdout",
     "output_type": "stream",
     "text": [
      "==================\n",
      "Your score:  1.0\n",
      "==================\n"
     ]
    }
   ],
   "source": [
    "#indices = [43234]*100\n",
    "\n",
    "grader.score('tf__perceptual_delta', indices)"
   ]
  },
  {
   "cell_type": "markdown",
   "metadata": {},
   "source": [
    "**Extension:** What does this suggest about the proper class for this image?\n",
    "\n",
    "> **Aside:** Essentially, we've started to implement a $k$-nearest neighbors algorithm, using this perceptual distance as our metric.  If we ran the difference between all of the validation images and each of the training images, we could make a prediction from the nearest images for each.  Give it a try, if you're interested, but this miniproject is going to go in another direction."
   ]
  },
  {
   "cell_type": "markdown",
   "metadata": {},
   "source": [
    "## Smallest delta model"
   ]
  },
  {
   "cell_type": "markdown",
   "metadata": {},
   "source": [
    "Instead of comparing each validation image to each training image, let's generate a \"typical\" image for each class.  This typical image will be the one that minimizes the total (or average) perceptual delta from all training images in this class.  We could do that through some clever averaging, but let's treat it as a minimization problem so that we can do gradient descent.  \n",
    "\n",
    "This problem will have two steps, the first step is to train a typical image for each class in the training set, the second will be to make predictions on the validation set.  These predictions will be based on the closest \"typical\" image trained in the first step.\n",
    "\n",
    "Make the typical image a TensorFlow variable, starting with random pixel values.  It's this TensorFlow variable that we will train by performing gradient descent."
   ]
  },
  {
   "cell_type": "code",
   "execution_count": 7,
   "metadata": {},
   "outputs": [],
   "source": [
    "Ni,Nx,Ny,Nc=validation_images.shape\n",
    "typical=tf.Variable(tf.random_normal([Nx,Ny,Nc], stddev=.5, mean=.5)/2, dtype=np.float32)\n",
    "#typical = tf.Variable((((.5**2)*(np.random.randn(Nx,Ny,Nc))+1)/2), dtype=np.float32).initialized_value()"
   ]
  },
  {
   "cell_type": "code",
   "execution_count": 64,
   "metadata": {},
   "outputs": [],
   "source": [
    "def reset_vars():\n",
    "    sess.run(tf.global_variables_initializer())"
   ]
  },
  {
   "cell_type": "code",
   "execution_count": 14,
   "metadata": {},
   "outputs": [],
   "source": [
    "#np.argsort(deltas)[0]"
   ]
  },
  {
   "cell_type": "markdown",
   "metadata": {},
   "source": [
    "Define an error function that measures the difference between that typical image and a set of images. You should be able to use the same `delta_func` you defined in the first problem.  You can also reuse the `images` placeholder from the first problem, but instead of the placeholder `base` you need to use the variable `typical` you just defined, since this is what we are trying to train via gradient descent.  "
   ]
  },
  {
   "cell_type": "code",
   "execution_count": 15,
   "metadata": {},
   "outputs": [],
   "source": [
    "#Ni,Nx,Ny,Nc=train_images.shape\n",
    "#images = tf.placeholder(tf.float32, shape=(Ni,Nx,Ny,Nc))\n",
    "#with tf.Session() as sess:\n",
    "#    reset_vars()\n",
    "#    error = sess.run(delta_func(images,typical), feed_dict={images: train_images,typical:typical.eval()})"
   ]
  },
  {
   "cell_type": "code",
   "execution_count": 29,
   "metadata": {},
   "outputs": [],
   "source": [
    "Ni,Nx,Ny,Nc=train_images.shape\n",
    "img = tf.placeholder(tf.float32, shape=(None,Nx,Ny,Nc))\n",
    "error = tf.reduce_mean(delta_func(img,typical))"
   ]
  },
  {
   "cell_type": "markdown",
   "metadata": {},
   "source": [
    "Now, we will use gradient descent to find a typical image in order to minimize the error.  We want to do this for each of the ten classes of images, but let's first concentrate on how we do this for a single class (we can roll the code into a `for` loop later).  \n",
    "\n",
    "First let's get the images that belong to a single class, say class 6 (corresponding to the first training image)."
   ]
  },
  {
   "cell_type": "code",
   "execution_count": 30,
   "metadata": {},
   "outputs": [],
   "source": [
    "label = 6\n",
    "Ni,Nx,Ny,Nc=train_images.shape\n",
    "index=[]\n",
    "for i in range(Ni):\n",
    "    if train_labels[i]==label:\n",
    "        index.append(i)\n",
    "ims =train_images[index,:,:,:].astype('float32')"
   ]
  },
  {
   "cell_type": "markdown",
   "metadata": {},
   "source": [
    "Now define the gradient descent optimizer, and the method that will minimize the error function defined above.  Remember that you need to specify a learning rate for the optimizer.  You might need to later experiment with the learning rate to find the right value so the training will converge to the minimum (and converge quickly).  (__Note:__  \"Normal\" learning rates are typically in the range 0.1 to 1, perhaps even smaller in some situations.  The learning rate we used in our solution was an order of magnitude larger than that.)  "
   ]
  },
  {
   "cell_type": "code",
   "execution_count": 60,
   "metadata": {},
   "outputs": [],
   "source": [
    "import tensorflow as tf\n",
    "eta = 1\n",
    "optimizer=tf.train.AdamOptimizer(eta)\n",
    "#optimizer = tf.train.GradientDescentOptimizer(eta)\n",
    "train = optimizer.minimize(error)"
   ]
  },
  {
   "cell_type": "markdown",
   "metadata": {},
   "source": [
    "__Comment/Reminder:__  What is the gradient descent optimizer doing during the training procedure?  Assuming everything previously has been defined correctly, the only _variable_ in the error function is `typical`, so this is the only thing that the optimizer can alter when attempting to minimize the error function.  It's important to understand this detail, as our goal is to train (find) the typical image during the optimization procedure.  \n",
    "\n",
    "Before we forget, since it's a TensorFlow variable, we need to initialize `typical` before we start the training.  "
   ]
  },
  {
   "cell_type": "code",
   "execution_count": 61,
   "metadata": {},
   "outputs": [],
   "source": [
    "# What do I need to do here?\n",
    "with tf.Session() as sess:\n",
    "    reset_vars()\n",
    "    for _ in range(20):\n",
    "        sess.run(train, feed_dict={img: ims})\n",
    "    typical6=typical.eval()"
   ]
  },
  {
   "cell_type": "markdown",
   "metadata": {},
   "source": [
    "Keeping in mind that our training set (for a single label) consists of 5,000 images, let's perform the training in batches.  To ensure good training, let's pick our batches randomly from the set of training images.  \n",
    "\n",
    "Strictly speaking, we are performing a batched version of __stochastic gradient descent__.  "
   ]
  },
  {
   "cell_type": "code",
   "execution_count": null,
   "metadata": {},
   "outputs": [],
   "source": [
    "BATCH_SIZE = ...\n",
    "EPOCHS = ...\n",
    "for ep in ...\n",
    "...\n",
    "<Do training here...>"
   ]
  },
  {
   "cell_type": "code",
   "execution_count": 101,
   "metadata": {},
   "outputs": [
    {
     "data": {
      "image/png": "[encoded data removed]",
      "text/plain": [
       "<Figure size 864x576 with 1 Axes>"
      ]
     },
     "metadata": {},
     "output_type": "display_data"
    }
   ],
   "source": [
    "#best e=30, rnge(30)\n",
    "etas = [30]\n",
    "errors = []\n",
    "BATCH_SIZE = 100\n",
    "\n",
    "for e in etas:\n",
    "    with tf.Session() as sess:\n",
    "        reset_vars()\n",
    "        #optimizer=tf.train.AdamOptimizer(e)\n",
    "        optimizer = tf.train.GradientDescentOptimizer(e)  # learning rate\n",
    "        train = optimizer.minimize(error)\n",
    "        errors.append([sess.run(error, feed_dict={img: ims})])\n",
    "        for i in range(30):\n",
    "            sess.run(train, feed_dict={img: ims})\n",
    "            errors[-1].append(sess.run(error, feed_dict={img: ims}))\n",
    "import numpy as np\n",
    "import tensorflow as tf\n",
    "import matplotlib.pyplot as plt\n",
    "\n",
    "import expectexception\n",
    "plt.plot(np.array(errors).T, '.-')\n",
    "plt.legend(etas, title=r'$\\eta$')\n",
    "plt.xlabel('step')\n",
    "plt.ylabel('loss');"
   ]
  },
  {
   "cell_type": "code",
   "execution_count": 100,
   "metadata": {},
   "outputs": [
    {
     "data": {
      "image/png": "[encoded data removed]",
      "text/plain": [
       "<Figure size 864x576 with 1 Axes>"
      ]
     },
     "metadata": {},
     "output_type": "display_data"
    }
   ],
   "source": [
    "etas = [30]\n",
    "errors = []\n",
    "BATCH_SIZE = 100\n",
    "\n",
    "for e in etas:\n",
    "    with tf.Session() as sess:\n",
    "\n",
    "        reset_vars()\n",
    "        optimizer = tf.train.GradientDescentOptimizer(e)\n",
    "        train = optimizer.minimize(error)\n",
    "        errors.append([sess.run(error, feed_dict={img: ims})])\n",
    "        for i in range(30):\n",
    "            j = np.random.choice(len(ims[:, 1,1,1]), BATCH_SIZE, replace=False)\n",
    "            sess.run(train, feed_dict={img: ims[j, :,:,:]})\n",
    "            errors[-1].append(sess.run(error, feed_dict={img: ims}))\n",
    "\n",
    "plt.plot(np.array(errors).T, '.-')\n",
    "plt.legend(etas, title=r'$\\eta$')\n",
    "plt.xlabel('step')\n",
    "plt.ylabel('loss');"
   ]
  },
  {
   "cell_type": "markdown",
   "metadata": {},
   "source": [
    "__Checkpoint:__  Here's the typical image we generated for label 6 when we did the training.  "
   ]
  },
  {
   "cell_type": "code",
   "execution_count": 39,
   "metadata": {},
   "outputs": [
    {
     "name": "stdout",
     "output_type": "stream",
     "text": [
      "download: s3://dataincubator-course/miniprojects/tf/typical_6.npy to ./typical_6.npy\r\n"
     ]
    },
    {
     "data": {
      "text/plain": [
       "<matplotlib.image.AxesImage at 0x7f64bceea128>"
      ]
     },
     "execution_count": 39,
     "metadata": {},
     "output_type": "execute_result"
    },
    {
     "data": {
      "image/png": "[encoded data removed]",
      "text/plain": [
       "<Figure size 432x288 with 1 Axes>"
      ]
     },
     "metadata": {},
     "output_type": "display_data"
    }
   ],
   "source": [
    "!aws s3 sync s3://dataincubator-course/miniprojects/tf/ .\n",
    "\n",
    "matplotlib.pyplot.imshow(np.load(open('typical_6.npy','rb')))"
   ]
  },
  {
   "cell_type": "markdown",
   "metadata": {},
   "source": [
    "You can compare this to the first four frog (class label 6) training images. A perfect fit, right?  "
   ]
  },
  {
   "cell_type": "code",
   "execution_count": 40,
   "metadata": {},
   "outputs": [
    {
     "data": {
      "image/png": "[encoded data removed]",
      "text/plain": [
       "<Figure size 432x288 with 4 Axes>"
      ]
     },
     "metadata": {},
     "output_type": "display_data"
    }
   ],
   "source": [
    "frogs = np.where(train_labels == 6)[0]   #  Get the indices for the frogs\n",
    "\n",
    "fig, ax = matplotlib.pyplot.subplots(2, 2)\n",
    "for i in range(4):\n",
    "    np.ravel(ax)[i].imshow(train_images[ frogs[i] ])\n",
    "\n",
    "matplotlib.pyplot.show()"
   ]
  },
  {
   "cell_type": "markdown",
   "metadata": {},
   "source": [
    "Having now done this training for one class, it should be easy to roll this code into a `for` loop to generate a typical image for each of the 10 classes.  Don't forget to save your typical image for each class, as they are needed for the prediction step.  "
   ]
  },
  {
   "cell_type": "code",
   "execution_count": 104,
   "metadata": {},
   "outputs": [
    {
     "data": {
      "image/png": "[encoded data removed]",
      "text/plain": [
       "<Figure size 864x576 with 1 Axes>"
      ]
     },
     "metadata": {},
     "output_type": "display_data"
    }
   ],
   "source": [
    "Ni,Nx,Ny,Nc=train_images.shape\n",
    "typicals=[]\n",
    "etas = [30]\n",
    "errors = []\n",
    "BATCH_SIZE = 100\n",
    "for i in range(10):\n",
    "    label = i\n",
    "    index=[]\n",
    "    for i in range(Ni):\n",
    "        if train_labels[i]==label:\n",
    "            index.append(i)\n",
    "    ims =train_images[index,:,:,:].astype('float32')\n",
    "\n",
    "    for e in etas:\n",
    "        with tf.Session() as sess:\n",
    "\n",
    "            reset_vars()\n",
    "            optimizer = tf.train.GradientDescentOptimizer(e)\n",
    "            train = optimizer.minimize(error)\n",
    "            errors.append([sess.run(error, feed_dict={img: ims})])\n",
    "            for i in range(30):\n",
    "                j = np.random.choice(len(ims[:, 1,1,1]), BATCH_SIZE, replace=False)\n",
    "                sess.run(train, feed_dict={img: ims[j, :,:,:]})\n",
    "                errors[-1].append(sess.run(error, feed_dict={img: ims}))\n",
    "            typicals.append(typical.eval())\n",
    "    plt.plot(np.array(errors).T, '.-')\n",
    "    plt.legend(etas, title=r'$\\eta$')\n",
    "    plt.xlabel('step')\n",
    "    plt.ylabel('loss');"
   ]
  },
  {
   "cell_type": "markdown",
   "metadata": {},
   "source": [
    "Finally, we're ready to make a prediction for each validation image based on which typical image is nearest under our distance metric.  You need to generate a list of 10,000 integers, representing the predicted class of each validation image.   \n",
    "\n",
    "__Hint:__ Use the graph you defined from question 1 to find the distance between each validation image and a _single_ typical image, and repeat for each typical image to create a `numpy` array of distances having shape (10000,10).  You should then find the `np.argmin()` function helpful in finding the predicted label for each validation image.  "
   ]
  },
  {
   "cell_type": "code",
   "execution_count": 153,
   "metadata": {},
   "outputs": [],
   "source": [
    "Ni,Nx,Ny,Nc=validation_images.shape\n",
    "images = tf.placeholder(tf.float32, shape=(Ni,Nx,Ny,Nc))\n",
    "base = tf.placeholder(tf.float32, shape=(Nx,Ny,Nc))\n",
    "deltas_all=[]\n",
    "for i in range(len(typicals)):\n",
    "    with tf.Session() as sess:\n",
    "        deltas = sess.run(delta_func(images,base), feed_dict={images: validation_images,base:typicals[i]})\n",
    "        deltas_all.append(deltas)\n",
    "valid_cat=[]\n",
    "for i in range(len(validation_images)):\n",
    "    min_delta=10\n",
    "    for j in range(10):\n",
    "        if deltas_all[j][i]< min_delta:\n",
    "            min_delta=deltas_all[j][i]\n",
    "            min_delta_n=j\n",
    "    valid_cat.append(min_delta_n)\n"
   ]
  },
  {
   "cell_type": "code",
   "execution_count": 156,
   "metadata": {},
   "outputs": [
    {
     "name": "stdout",
     "output_type": "stream",
     "text": [
      "==================\n",
      "Your score:  0.980816184164632\n",
      "==================\n"
     ]
    }
   ],
   "source": [
    "predicted_classes = valid_cat\n",
    "#predicted_classes = return [0]*len(validation_images)\n",
    "grader.score('tf__smallest_delta', predicted_classes)"
   ]
  },
  {
   "cell_type": "markdown",
   "metadata": {},
   "source": [
    "We suggest storing your typical images in a file using the `numpy` \"save\" function.  That function allows you to save a `numpy` array to a binary file.  That way if you need to restart this notebook, you can reload your typical images you have already trained (not having to re-run the code above to create these typical images again).  (We used `numpy.load` near the start of this notebook to load the training and validation images that were stored in this binary format.)"
   ]
  },
  {
   "cell_type": "markdown",
   "metadata": {},
   "source": [
    "## Softmax model"
   ]
  },
  {
   "cell_type": "markdown",
   "metadata": {},
   "source": [
    "Looking only at the smallest distance is throwing some information away.  We would expect some classes to have more variation that others.  Also, we would expect correlation between the classes&mdash;a small distance to *cat* is probably more likely for *dog* than for *airplane*.\n",
    "\n",
    "Instead of a trying to work out these effects heuristically, let the computer do it.  Build a softmax model that takes as input features the distances from all ten typical images and makes a class prediction from those.  Again, use this to predict the class for each of the validation images.\n",
    "\n",
    "**Hint:**\n",
    "- The labels are given as integers, but softmax expects one-hot encoding of the labels.  The `tf.one_hot` function can do the conversion."
   ]
  },
  {
   "cell_type": "code",
   "execution_count": 257,
   "metadata": {},
   "outputs": [
    {
     "ename": "NameError",
     "evalue": "name 'valid_cat' is not defined",
     "output_type": "error",
     "traceback": [
      "\u001b[0;31m---------------------------------------------------------------------------\u001b[0m",
      "\u001b[0;31mNameError\u001b[0m                                 Traceback (most recent call last)",
      "\u001b[0;32m<ipython-input-257-2802890658d5>\u001b[0m in \u001b[0;36m<module>\u001b[0;34m()\u001b[0m\n\u001b[1;32m      1\u001b[0m \u001b[0;31m#predicted_classes = return [0]*len(validation_images)\u001b[0m\u001b[0;34m\u001b[0m\u001b[0;34m\u001b[0m\u001b[0m\n\u001b[0;32m----> 2\u001b[0;31m \u001b[0mpredicted_classes\u001b[0m \u001b[0;34m=\u001b[0m \u001b[0mvalid_cat\u001b[0m\u001b[0;34m\u001b[0m\u001b[0m\n\u001b[0m\u001b[1;32m      3\u001b[0m \u001b[0mpredicted_classes\u001b[0m \u001b[0;34m=\u001b[0m \u001b[0mpred_q5\u001b[0m\u001b[0;34m\u001b[0m\u001b[0m\n\u001b[1;32m      4\u001b[0m \u001b[0mgrader\u001b[0m\u001b[0;34m.\u001b[0m\u001b[0mscore\u001b[0m\u001b[0;34m(\u001b[0m\u001b[0;34m'tf__softmax'\u001b[0m\u001b[0;34m,\u001b[0m \u001b[0mpredicted_classes\u001b[0m\u001b[0;34m)\u001b[0m\u001b[0;34m\u001b[0m\u001b[0m\n",
      "\u001b[0;31mNameError\u001b[0m: name 'valid_cat' is not defined"
     ]
    }
   ],
   "source": [
    "#predicted_classes = return [0]*len(validation_images)\n",
    "predicted_classes = valid_cat\n",
    "grader.score('tf__softmax', predicted_classes)"
   ]
  },
  {
   "cell_type": "markdown",
   "metadata": {},
   "source": [
    "**Extension:** Does this perform any better than the previous solution?  What metric is the right one to use to make this judgment?"
   ]
  },
  {
   "cell_type": "markdown",
   "metadata": {},
   "source": [
    "## Fully-connected model"
   ]
  },
  {
   "cell_type": "markdown",
   "metadata": {},
   "source": [
    "The previous model still makes the assumption that this distance metric is the right measure to use.  In this problem, we'll give this up.  Build a multi-layer fully-connected neural network that takes the pixel values as input and yields a class prediction as output.\n",
    "\n",
    "**Hints:**\n",
    "- We found that adding more layers didn't help too much.\n",
    "- Watch out for over-fitting.  Drop-out can help with this.\n",
    "- The reference solution achieves an accuracy of about 44% on a training set and 41% on a test set."
   ]
  },
  {
   "cell_type": "code",
   "execution_count": 3,
   "metadata": {},
   "outputs": [],
   "source": [
    "from __future__ import print_function\n",
    "import tensorflow as tf"
   ]
  },
  {
   "cell_type": "code",
   "execution_count": 4,
   "metadata": {},
   "outputs": [],
   "source": [
    "from tensorflow.keras.utils import to_categorical as one_hot\n",
    "# Parameters\n",
    "learning_rate = 0.1\n",
    "num_steps = 500\n",
    "batch_size = 200\n",
    "display_step = 100\n",
    "\n",
    "# Network Parameters\n",
    "n_hidden_1 = 256 # 1st layer number of neurons\n",
    "n_hidden_2 = 256 # 2nd layer number of neurons\n",
    "num_input = 32*32*3 # MNIST data input (img shape: 32*32)\n",
    "num_classes = 10 # MNIST total classes (0-9 digits)\n",
    "\n",
    "# tf Graph input\n",
    "X = tf.placeholder(\"float\", [None, num_input])\n",
    "Y = tf.placeholder(\"float\", [None, num_classes])\n",
    "\n",
    "X_train=train_images.reshape(len(train_images), -1)\n",
    "X_test=validation_images.reshape(len(validation_images), -1)\n",
    "\n",
    "y_train = one_hot(train_labels)\n",
    "#y_test  = one_hot(y_test)"
   ]
  },
  {
   "cell_type": "code",
   "execution_count": 81,
   "metadata": {},
   "outputs": [],
   "source": [
    "def next_batch(num, data, labels):\n",
    "    '''\n",
    "    Return a total of `num` random samples and labels. \n",
    "    '''\n",
    "    idx = np.arange(0 , len(data))\n",
    "    np.random.shuffle(idx)\n",
    "    idx = idx[:num]\n",
    "    data_shuffle = [data[ i] for i in idx]\n",
    "    labels_shuffle = [labels[ i] for i in idx]\n",
    "\n",
    "    return np.asarray(data_shuffle), np.asarray(labels_shuffle)\n"
   ]
  },
  {
   "cell_type": "code",
   "execution_count": 82,
   "metadata": {},
   "outputs": [],
   "source": [
    "# Store layers weight & bias\n",
    "weights = {\n",
    "    'h1': tf.Variable(tf.random_normal([num_input, n_hidden_1])),\n",
    "    'h2': tf.Variable(tf.random_normal([n_hidden_1, n_hidden_2])),\n",
    "    'out': tf.Variable(tf.random_normal([n_hidden_2, num_classes]))\n",
    "}\n",
    "biases = {\n",
    "    'b1': tf.Variable(tf.random_normal([n_hidden_1])),\n",
    "    'b2': tf.Variable(tf.random_normal([n_hidden_2])),\n",
    "    'out': tf.Variable(tf.random_normal([num_classes]))\n",
    "}"
   ]
  },
  {
   "cell_type": "code",
   "execution_count": 83,
   "metadata": {},
   "outputs": [],
   "source": [
    "# Create model\n",
    "def neural_net(x):\n",
    "    # Hidden fully connected layer with 256 neurons\n",
    "    layer_1 = tf.add(tf.matmul(x, weights['h1']), biases['b1'])\n",
    "    # Hidden fully connected layer with 256 neurons\n",
    "    layer_2 = tf.add(tf.matmul(layer_1, weights['h2']), biases['b2'])\n",
    "    # Output fully connected layer with a neuron for each class\n",
    "    out_layer = tf.matmul(layer_2, weights['out']) + biases['out']\n",
    "    return out_layer"
   ]
  },
  {
   "cell_type": "code",
   "execution_count": 84,
   "metadata": {},
   "outputs": [],
   "source": [
    "# Construct model\n",
    "logits = neural_net(X)\n",
    "\n",
    "# Define loss and optimizer\n",
    "loss_op = tf.reduce_mean(tf.nn.softmax_cross_entropy_with_logits(\n",
    "    logits=logits, labels=Y))\n",
    "optimizer = tf.train.AdamOptimizer(learning_rate=learning_rate)\n",
    "train_op = optimizer.minimize(loss_op)\n",
    "\n",
    "# Evaluate model (with test logits, for dropout to be disabled)\n",
    "correct_pred = tf.equal(tf.argmax(logits, 1), tf.argmax(Y, 1))\n",
    "accuracy = tf.reduce_mean(tf.cast(correct_pred, tf.float32))\n",
    "\n",
    "# Initialize the variables (i.e. assign their default value)\n",
    "init = tf.global_variables_initializer()"
   ]
  },
  {
   "cell_type": "code",
   "execution_count": 85,
   "metadata": {},
   "outputs": [
    {
     "name": "stdout",
     "output_type": "stream",
     "text": [
      "Step 1, Minibatch Loss= 31089.8027, Training Accuracy= 0.093\n",
      "Step 100, Minibatch Loss= 2047.6156, Training Accuracy= 0.199\n",
      "Step 200, Minibatch Loss= 258.2664, Training Accuracy= 0.224\n",
      "Step 300, Minibatch Loss= 39.7253, Training Accuracy= 0.278\n",
      "Step 400, Minibatch Loss= 20.1905, Training Accuracy= 0.256\n",
      "Step 500, Minibatch Loss= 14.1963, Training Accuracy= 0.266\n",
      "Step 600, Minibatch Loss= 11.5963, Training Accuracy= 0.250\n",
      "Step 700, Minibatch Loss= 8.1993, Training Accuracy= 0.263\n",
      "Step 800, Minibatch Loss= 7.1593, Training Accuracy= 0.237\n",
      "Step 900, Minibatch Loss= 5.2635, Training Accuracy= 0.235\n",
      "Step 1000, Minibatch Loss= 4.9307, Training Accuracy= 0.266\n",
      "Step 1100, Minibatch Loss= 4.7950, Training Accuracy= 0.285\n",
      "Step 1200, Minibatch Loss= 4.9651, Training Accuracy= 0.274\n",
      "Step 1300, Minibatch Loss= 4.1291, Training Accuracy= 0.275\n",
      "Step 1400, Minibatch Loss= 4.2758, Training Accuracy= 0.285\n",
      "Step 1500, Minibatch Loss= 3.9840, Training Accuracy= 0.282\n",
      "Step 1600, Minibatch Loss= 3.7033, Training Accuracy= 0.291\n",
      "Step 1700, Minibatch Loss= 3.6760, Training Accuracy= 0.280\n",
      "Step 1800, Minibatch Loss= 4.1522, Training Accuracy= 0.286\n",
      "Step 1900, Minibatch Loss= 3.7978, Training Accuracy= 0.292\n",
      "Step 2000, Minibatch Loss= 3.8687, Training Accuracy= 0.291\n",
      "Step 2100, Minibatch Loss= 3.9080, Training Accuracy= 0.309\n",
      "Step 2200, Minibatch Loss= 3.8360, Training Accuracy= 0.279\n",
      "Step 2300, Minibatch Loss= 4.2937, Training Accuracy= 0.275\n",
      "Step 2400, Minibatch Loss= 3.9294, Training Accuracy= 0.289\n",
      "Step 2500, Minibatch Loss= 4.1930, Training Accuracy= 0.282\n",
      "Step 2600, Minibatch Loss= 4.2795, Training Accuracy= 0.283\n",
      "Step 2700, Minibatch Loss= 3.9453, Training Accuracy= 0.282\n",
      "Step 2800, Minibatch Loss= 3.7097, Training Accuracy= 0.304\n",
      "Step 2900, Minibatch Loss= 3.9790, Training Accuracy= 0.291\n",
      "Step 3000, Minibatch Loss= 5.1105, Training Accuracy= 0.266\n",
      "Step 3100, Minibatch Loss= 4.4246, Training Accuracy= 0.292\n",
      "Step 3200, Minibatch Loss= 363748.0938, Training Accuracy= 0.118\n",
      "Step 3300, Minibatch Loss= 2262.7642, Training Accuracy= 0.302\n",
      "Step 3400, Minibatch Loss= 1097.1368, Training Accuracy= 0.214\n",
      "Step 3500, Minibatch Loss= 814.9984, Training Accuracy= 0.207\n",
      "Optimization Finished!\n"
     ]
    }
   ],
   "source": [
    "# Start training\n",
    "with tf.Session() as sess:\n",
    "    # Run the initializer\n",
    "    sess.run(init)\n",
    "\n",
    "    for step in range(1, num_steps+1):\n",
    "#        batch_x, batch_y = mnist.train.next_batch(batch_size)\n",
    "        batch_x, batch_y=next_batch(batch_size,X_train, y_train)\n",
    "        # Run optimization op (backprop)\n",
    "        sess.run(train_op, feed_dict={X: batch_x, Y: batch_y})\n",
    "        if step % display_step == 0 or step == 1:\n",
    "            # Calculate batch loss and accuracy\n",
    "            loss, acc = sess.run([loss_op, accuracy], feed_dict={X: batch_x,\n",
    "                                                                 Y: batch_y})\n",
    "            print(\"Step \" + str(step) + \", Minibatch Loss= \" + \\\n",
    "                  \"{:.4f}\".format(loss) + \", Training Accuracy= \" + \\\n",
    "                  \"{:.3f}\".format(acc))\n",
    "\n",
    "    print(\"Optimization Finished!\")\n",
    "\n",
    "    # Calculate accuracy for MNIST test images\n",
    "#    print(\"Testing Accuracy:\", \\\n",
    "#        sess.run(accuracy, feed_dict={X: mnist.test.images,\n",
    "#                                      Y: mnist.test.labels}))"
   ]
  },
  {
   "cell_type": "code",
   "execution_count": 14,
   "metadata": {},
   "outputs": [],
   "source": [
    "#c1,c2=tf.train.batch([X_train, y_train], batch_size=5)"
   ]
  },
  {
   "cell_type": "code",
   "execution_count": 35,
   "metadata": {},
   "outputs": [],
   "source": [
    "def next_batch(num, data, labels):\n",
    "    '''\n",
    "    Return a total of `num` random samples and labels. \n",
    "    '''\n",
    "    idx = np.arange(0 , len(data))\n",
    "    np.random.shuffle(idx)\n",
    "    idx = idx[:num]\n",
    "    data_shuffle = [data[ i] for i in idx]\n",
    "    labels_shuffle = [labels[ i] for i in idx]\n",
    "\n",
    "    return np.asarray(data_shuffle), np.asarray(labels_shuffle)\n"
   ]
  },
  {
   "cell_type": "code",
   "execution_count": 6,
   "metadata": {},
   "outputs": [
    {
     "name": "stdout",
     "output_type": "stream",
     "text": [
      "Epoch 1/5\n",
      " 6350/50000 [==>...........................] - ETA: 31s - loss: 2.2441 - acc: 0.1564"
     ]
    },
    {
     "ename": "KeyboardInterrupt",
     "evalue": "",
     "output_type": "error",
     "traceback": [
      "\u001b[0;31m---------------------------------------------------------------------------\u001b[0m",
      "\u001b[0;31mKeyboardInterrupt\u001b[0m                         Traceback (most recent call last)",
      "\u001b[0;32m<ipython-input-6-54df77d70593>\u001b[0m in \u001b[0;36m<module>\u001b[0;34m()\u001b[0m\n\u001b[1;32m     39\u001b[0m model.fit(X_train, y_train,\n\u001b[1;32m     40\u001b[0m                     \u001b[0mepochs\u001b[0m\u001b[0;34m=\u001b[0m\u001b[0mn_epochs\u001b[0m\u001b[0;34m,\u001b[0m\u001b[0;34m\u001b[0m\u001b[0m\n\u001b[0;32m---> 41\u001b[0;31m                     batch_size=batch_size)\n\u001b[0m",
      "\u001b[0;32m/opt/conda/envs/data3/lib/python3.6/site-packages/tensorflow/python/keras/engine/training.py\u001b[0m in \u001b[0;36mfit\u001b[0;34m(self, x, y, batch_size, epochs, verbose, callbacks, validation_split, validation_data, shuffle, class_weight, sample_weight, initial_epoch, steps_per_epoch, validation_steps, **kwargs)\u001b[0m\n\u001b[1;32m   1361\u001b[0m           \u001b[0minitial_epoch\u001b[0m\u001b[0;34m=\u001b[0m\u001b[0minitial_epoch\u001b[0m\u001b[0;34m,\u001b[0m\u001b[0;34m\u001b[0m\u001b[0m\n\u001b[1;32m   1362\u001b[0m           \u001b[0msteps_per_epoch\u001b[0m\u001b[0;34m=\u001b[0m\u001b[0msteps_per_epoch\u001b[0m\u001b[0;34m,\u001b[0m\u001b[0;34m\u001b[0m\u001b[0m\n\u001b[0;32m-> 1363\u001b[0;31m           validation_steps=validation_steps)\n\u001b[0m\u001b[1;32m   1364\u001b[0m \u001b[0;34m\u001b[0m\u001b[0m\n\u001b[1;32m   1365\u001b[0m   def evaluate(self,\n",
      "\u001b[0;32m/opt/conda/envs/data3/lib/python3.6/site-packages/tensorflow/python/keras/engine/training_arrays.py\u001b[0m in \u001b[0;36mfit_loop\u001b[0;34m(model, inputs, targets, sample_weights, batch_size, epochs, verbose, callbacks, val_inputs, val_targets, val_sample_weights, shuffle, callback_metrics, initial_epoch, steps_per_epoch, validation_steps)\u001b[0m\n\u001b[1;32m    262\u001b[0m           \u001b[0mins_batch\u001b[0m\u001b[0;34m[\u001b[0m\u001b[0mi\u001b[0m\u001b[0;34m]\u001b[0m \u001b[0;34m=\u001b[0m \u001b[0mins_batch\u001b[0m\u001b[0;34m[\u001b[0m\u001b[0mi\u001b[0m\u001b[0;34m]\u001b[0m\u001b[0;34m.\u001b[0m\u001b[0mtoarray\u001b[0m\u001b[0;34m(\u001b[0m\u001b[0;34m)\u001b[0m\u001b[0;34m\u001b[0m\u001b[0m\n\u001b[1;32m    263\u001b[0m \u001b[0;34m\u001b[0m\u001b[0m\n\u001b[0;32m--> 264\u001b[0;31m         \u001b[0mouts\u001b[0m \u001b[0;34m=\u001b[0m \u001b[0mf\u001b[0m\u001b[0;34m(\u001b[0m\u001b[0mins_batch\u001b[0m\u001b[0;34m)\u001b[0m\u001b[0;34m\u001b[0m\u001b[0m\n\u001b[0m\u001b[1;32m    265\u001b[0m         \u001b[0;32mif\u001b[0m \u001b[0;32mnot\u001b[0m \u001b[0misinstance\u001b[0m\u001b[0;34m(\u001b[0m\u001b[0mouts\u001b[0m\u001b[0;34m,\u001b[0m \u001b[0mlist\u001b[0m\u001b[0;34m)\u001b[0m\u001b[0;34m:\u001b[0m\u001b[0;34m\u001b[0m\u001b[0m\n\u001b[1;32m    266\u001b[0m           \u001b[0mouts\u001b[0m \u001b[0;34m=\u001b[0m \u001b[0;34m[\u001b[0m\u001b[0mouts\u001b[0m\u001b[0;34m]\u001b[0m\u001b[0;34m\u001b[0m\u001b[0m\n",
      "\u001b[0;32m/opt/conda/envs/data3/lib/python3.6/site-packages/tensorflow/python/keras/backend.py\u001b[0m in \u001b[0;36m__call__\u001b[0;34m(self, inputs)\u001b[0m\n\u001b[1;32m   2912\u001b[0m       \u001b[0mself\u001b[0m\u001b[0;34m.\u001b[0m\u001b[0m_make_callable\u001b[0m\u001b[0;34m(\u001b[0m\u001b[0mfeed_arrays\u001b[0m\u001b[0;34m,\u001b[0m \u001b[0mfeed_symbols\u001b[0m\u001b[0;34m,\u001b[0m \u001b[0msymbol_vals\u001b[0m\u001b[0;34m,\u001b[0m \u001b[0msession\u001b[0m\u001b[0;34m)\u001b[0m\u001b[0;34m\u001b[0m\u001b[0m\n\u001b[1;32m   2913\u001b[0m \u001b[0;34m\u001b[0m\u001b[0m\n\u001b[0;32m-> 2914\u001b[0;31m     \u001b[0mfetched\u001b[0m \u001b[0;34m=\u001b[0m \u001b[0mself\u001b[0m\u001b[0;34m.\u001b[0m\u001b[0m_callable_fn\u001b[0m\u001b[0;34m(\u001b[0m\u001b[0;34m*\u001b[0m\u001b[0marray_vals\u001b[0m\u001b[0;34m)\u001b[0m\u001b[0;34m\u001b[0m\u001b[0m\n\u001b[0m\u001b[1;32m   2915\u001b[0m     \u001b[0mself\u001b[0m\u001b[0;34m.\u001b[0m\u001b[0m_call_fetch_callbacks\u001b[0m\u001b[0;34m(\u001b[0m\u001b[0mfetched\u001b[0m\u001b[0;34m[\u001b[0m\u001b[0;34m-\u001b[0m\u001b[0mlen\u001b[0m\u001b[0;34m(\u001b[0m\u001b[0mself\u001b[0m\u001b[0;34m.\u001b[0m\u001b[0m_fetches\u001b[0m\u001b[0;34m)\u001b[0m\u001b[0;34m:\u001b[0m\u001b[0;34m]\u001b[0m\u001b[0;34m)\u001b[0m\u001b[0;34m\u001b[0m\u001b[0m\n\u001b[1;32m   2916\u001b[0m     \u001b[0;32mreturn\u001b[0m \u001b[0mfetched\u001b[0m\u001b[0;34m[\u001b[0m\u001b[0;34m:\u001b[0m\u001b[0mlen\u001b[0m\u001b[0;34m(\u001b[0m\u001b[0mself\u001b[0m\u001b[0;34m.\u001b[0m\u001b[0moutputs\u001b[0m\u001b[0;34m)\u001b[0m\u001b[0;34m]\u001b[0m\u001b[0;34m\u001b[0m\u001b[0m\n",
      "\u001b[0;32m/opt/conda/envs/data3/lib/python3.6/site-packages/tensorflow/python/client/session.py\u001b[0m in \u001b[0;36m__call__\u001b[0;34m(self, *args, **kwargs)\u001b[0m\n\u001b[1;32m   1380\u001b[0m           ret = tf_session.TF_SessionRunCallable(\n\u001b[1;32m   1381\u001b[0m               \u001b[0mself\u001b[0m\u001b[0;34m.\u001b[0m\u001b[0m_session\u001b[0m\u001b[0;34m.\u001b[0m\u001b[0m_session\u001b[0m\u001b[0;34m,\u001b[0m \u001b[0mself\u001b[0m\u001b[0;34m.\u001b[0m\u001b[0m_handle\u001b[0m\u001b[0;34m,\u001b[0m \u001b[0margs\u001b[0m\u001b[0;34m,\u001b[0m \u001b[0mstatus\u001b[0m\u001b[0;34m,\u001b[0m\u001b[0;34m\u001b[0m\u001b[0m\n\u001b[0;32m-> 1382\u001b[0;31m               run_metadata_ptr)\n\u001b[0m\u001b[1;32m   1383\u001b[0m         \u001b[0;32mif\u001b[0m \u001b[0mrun_metadata\u001b[0m\u001b[0;34m:\u001b[0m\u001b[0;34m\u001b[0m\u001b[0m\n\u001b[1;32m   1384\u001b[0m           \u001b[0mproto_data\u001b[0m \u001b[0;34m=\u001b[0m \u001b[0mtf_session\u001b[0m\u001b[0;34m.\u001b[0m\u001b[0mTF_GetBuffer\u001b[0m\u001b[0;34m(\u001b[0m\u001b[0mrun_metadata_ptr\u001b[0m\u001b[0;34m)\u001b[0m\u001b[0;34m\u001b[0m\u001b[0m\n",
      "\u001b[0;31mKeyboardInterrupt\u001b[0m: "
     ]
    }
   ],
   "source": [
    "#notebook method\n",
    "# Model parameters\n",
    "import numpy as np\n",
    "import tensorflow as tf\n",
    "from tensorflow import keras\n",
    "\n",
    "import matplotlib.pyplot as plt\n",
    "\n",
    "import time\n",
    "from datetime import datetime, timedelta\n",
    "#import pylib\n",
    "#import pylib.conv_widget as cw\n",
    "#from pylib.tensorboardcmd import tensorboard_cmd\n",
    "from tensorflow.keras.utils import to_categorical as one_hot\n",
    "img_size = 32\n",
    "img_size_flat = img_size * img_size\n",
    "img_shape = (img_size, img_size)\n",
    "\n",
    "n_classes = 10\n",
    "n_channels = 1\n",
    "filt_size = [5, 5] # 5x5 pixel filters\n",
    "\n",
    "batch_size = 50\n",
    "n_epochs = 5\n",
    "model = keras.models.Sequential()\n",
    "\n",
    "model.add(keras.layers.Reshape([img_size, img_size, 3]))\n",
    "model.add(keras.layers.Conv2D(16, filt_size, padding='same',\n",
    "                              activation='relu'))\n",
    "model.add(keras.layers.MaxPooling2D(pool_size=(2, 2), strides=(2,2),\n",
    "                                    padding='same'))\n",
    "model.add(keras.layers.Flatten())\n",
    "model.add(keras.layers.Dense(100, activation='relu'))\n",
    "model.add(keras.layers.Dense(n_classes, activation='softmax'))\n",
    "model.compile(loss='categorical_crossentropy',\n",
    "              optimizer=keras.optimizers.SGD(lr=0.1),\n",
    "              metrics=['accuracy'])\n",
    "\n",
    "history = model.fit(X_train, y_train,\n",
    "                    epochs=n_epochs,\n",
    "                    batch_size=batch_size)"
   ]
  },
  {
   "cell_type": "code",
   "execution_count": 104,
   "metadata": {},
   "outputs": [],
   "source": [
    "def predict(idx):\n",
    "    image = np.array([X_test[idx]])\n",
    "    return np.argmax(model.predict(image)) \n",
    "\n",
    "pred_q4=[]\n",
    "for i in range(len(validation_images)):\n",
    "    pred_q4.append(predict(i))\n"
   ]
  },
  {
   "cell_type": "code",
   "execution_count": 256,
   "metadata": {},
   "outputs": [
    {
     "name": "stdout",
     "output_type": "stream",
     "text": [
      "==================\n",
      "Your score:  1.5531153019813797\n",
      "==================\n"
     ]
    }
   ],
   "source": [
    "#predicted_classes = return [0]*len(validation_images)\n",
    "predicted_classes = pred_q4\n",
    "predicted_classes = pred_q5\n",
    "grader.score('tf__fully_connected', predicted_classes)"
   ]
  },
  {
   "cell_type": "markdown",
   "metadata": {},
   "source": [
    "## Convolutional model"
   ]
  },
  {
   "cell_type": "markdown",
   "metadata": {},
   "source": [
    "Convolutional neural networks have had a lot of success in image classification.  Build a neural network with convolutional layers to improve the performance.\n",
    "\n",
    "**Hints:**\n",
    "- The reference solution uses two convolutional layers and two fully-connected layers.\n",
    "- We found success with the `AdamOptimizer`.\n",
    "- The reference solution achieves an accuracy of 80% on a training set and 70% on a test set."
   ]
  },
  {
   "cell_type": "code",
   "execution_count": 7,
   "metadata": {},
   "outputs": [
    {
     "name": "stdout",
     "output_type": "stream",
     "text": [
      "Epoch 1/15\n",
      "50000/50000 [==============================] - 31s 629us/step - loss: 1.8860 - acc: 0.3232\n",
      "Epoch 2/15\n",
      "50000/50000 [==============================] - 30s 601us/step - loss: 1.4823 - acc: 0.4703\n",
      "Epoch 3/15\n",
      "50000/50000 [==============================] - 29s 572us/step - loss: 1.3016 - acc: 0.5399\n",
      "Epoch 4/15\n",
      "50000/50000 [==============================] - 26s 529us/step - loss: 1.1547 - acc: 0.5903\n",
      "Epoch 5/15\n",
      "50000/50000 [==============================] - 25s 505us/step - loss: 1.0218 - acc: 0.6362\n",
      "Epoch 6/15\n",
      "50000/50000 [==============================] - 26s 514us/step - loss: 0.8828 - acc: 0.6912\n",
      "Epoch 7/15\n",
      "50000/50000 [==============================] - 25s 499us/step - loss: 0.7477 - acc: 0.7376\n",
      "Epoch 8/15\n",
      "50000/50000 [==============================] - 26s 528us/step - loss: 0.6114 - acc: 0.7862\n",
      "Epoch 9/15\n",
      "50000/50000 [==============================] - 25s 502us/step - loss: 0.4876 - acc: 0.8284\n",
      "Epoch 10/15\n",
      "50000/50000 [==============================] - 25s 497us/step - loss: 0.3724 - acc: 0.8702\n",
      "Epoch 11/15\n",
      "50000/50000 [==============================] - 26s 517us/step - loss: 0.2850 - acc: 0.9025\n",
      "Epoch 12/15\n",
      "50000/50000 [==============================] - 26s 529us/step - loss: 0.2169 - acc: 0.9248\n",
      "Epoch 13/15\n",
      "50000/50000 [==============================] - 25s 500us/step - loss: 0.1669 - acc: 0.9437\n",
      "Epoch 14/15\n",
      "50000/50000 [==============================] - 26s 514us/step - loss: 0.1372 - acc: 0.9545\n",
      "Epoch 15/15\n",
      "50000/50000 [==============================] - 27s 546us/step - loss: 0.1007 - acc: 0.9671\n"
     ]
    }
   ],
   "source": [
    "#q5\n",
    "#notebook method\n",
    "# Model parameters\n",
    "import numpy as np\n",
    "import tensorflow as tf\n",
    "from tensorflow import keras\n",
    "\n",
    "import matplotlib.pyplot as plt\n",
    "\n",
    "import time\n",
    "from datetime import datetime, timedelta\n",
    "#import pylib\n",
    "#import pylib.conv_widget as cw\n",
    "#from pylib.tensorboardcmd import tensorboard_cmd\n",
    "from tensorflow.keras.utils import to_categorical as one_hot\n",
    "img_size = 32\n",
    "img_size_flat = img_size * img_size\n",
    "img_shape = (img_size, img_size)\n",
    "\n",
    "n_classes = 10\n",
    "n_channels = 1\n",
    "filt_size = [5, 5] # 5x5 pixel filters\n",
    "\n",
    "batch_size = 100\n",
    "n_epochs = 15\n",
    "model = keras.models.Sequential()\n",
    "\n",
    "model.add(keras.layers.Reshape([img_size, img_size, 3]))\n",
    "model.add(keras.layers.Conv2D(16, filt_size, padding='same',\n",
    "                              activation='relu'))\n",
    "#                            activation='softmax'))\n",
    "model.add(keras.layers.MaxPooling2D(pool_size=(2, 2), strides=(2,2),\n",
    "                                    padding='same'))\n",
    "model.add(keras.layers.Flatten())\n",
    "#model.add(keras.layers.Dense(1024, activation='sigmoid'))\n",
    "model.add(keras.layers.Dense(1024, activation='relu'))\n",
    "model.add(keras.layers.Dense(1024, activation='relu'))\n",
    "model.add(keras.layers.Dense(512, activation='relu'))\n",
    "model.add(keras.layers.Dropout(.5))\n",
    "model.add(keras.layers.Dense(n_classes, activation='softmax'))\n",
    "#model.add(keras.layers.Dense(n_classes, activation='sigmoid'))\n",
    "#model.add(keras.layers.Dense(n_classes, activation='relu'))\n",
    "#model.compile(loss='mean_squared_error',\n",
    "model.compile(loss='categorical_crossentropy',\n",
    "              optimizer=keras.optimizers.SGD(lr=.1),\n",
    "#optimizer=keras.optimizers.Adam(lr=0.01), #works with relu\n",
    "              metrics=['accuracy'],\n",
    "              target_tensors=[y_train])\n",
    "\n",
    "history = model.fit(X_train, y_train,\n",
    "                    epochs=n_epochs,\n",
    "                    batch_size=batch_size)"
   ]
  },
  {
   "cell_type": "code",
   "execution_count": 8,
   "metadata": {},
   "outputs": [],
   "source": [
    "def predict(idx):\n",
    "    image = np.array([X_test[idx]])\n",
    "    return np.argmax(model.predict(image)) \n",
    "\n",
    "pred_q5=[]\n",
    "for i in range(len(validation_images)):\n",
    "    pred_q5.append(predict(i))\n"
   ]
  },
  {
   "cell_type": "code",
   "execution_count": 9,
   "metadata": {},
   "outputs": [
    {
     "name": "stdout",
     "output_type": "stream",
     "text": [
      "==================\n",
      "Your score:  0.8806136680613668\n",
      "==================\n"
     ]
    }
   ],
   "source": [
    "#predicted_classes = return [0]*len(validation_images)\n",
    "predicted_classes = pred_q5\n",
    "grader.score('tf__convolutional', predicted_classes)"
   ]
  },
  {
   "cell_type": "markdown",
   "metadata": {},
   "source": [
    "## Transfer learning"
   ]
  },
  {
   "cell_type": "code",
   "execution_count": null,
   "metadata": {},
   "outputs": [],
   "source": [
    "#next method\n",
    "# minimum InceptionV3 image size is 139x139\n",
    "# Caltech101 images have all different dimensions\n",
    "inception = keras.applications.inception_v3.InceptionV3(include_top=False, weights='imagenet', input_shape=(139, 139, 3))\n",
    "for layer in inception.layers:\n",
    "    layer.trainable = False\n",
    "batch_size = 128\n",
    "n_batches = len(X_train) // batch_size\n",
    "x_train, y_train = dataset.repeat().batch(batch_size).make_one_shot_iterator().get_next()\n",
    "N_CLASSES = len(set(data.categories))\n",
    "\n",
    "input_layer = keras.layers.Input(shape=(139, 139, 3),\n",
    "                                   tensor=x_train)\n",
    "x = inception(input_layer)\n",
    "x = keras.layers.Flatten()(x)\n",
    "x = keras.layers.Dense(1024, activation='sigmoid')(x)\n",
    "x = keras.layers.Dropout(.5)(x)\n",
    "y = keras.layers.Dense(N_CLASSES, activation='softmax')(x)\n",
    "\n",
    "model = keras.models.Model(inputs=input_layer, outputs=y)\n",
    "model.compile(loss='categorical_crossentropy',\n",
    "              optimizer='sgd',\n",
    "              metrics=['accuracy'],\n",
    "              target_tensors=[y_train])"
   ]
  },
  {
   "cell_type": "markdown",
   "metadata": {},
   "source": [
    "In transfer learning, we use a network trained on one data set to provide a starting point for the modeling of other data.  As we are trying to model color images, we should look for another network trained on color images.  Luckily, we have already discussed such a network: the `GoogLeNet` network used in the Deep Dream notebook.\n",
    "\n",
    "The following cell will download the saved network, if necessary, and load it into the current graph."
   ]
  },
  {
   "cell_type": "code",
   "execution_count": 5,
   "metadata": {},
   "outputs": [],
   "source": [
    "import os\n",
    "from urllib.request import urlopen\n",
    "import zipfile\n",
    "\n",
    "data_url = \"http://storage.googleapis.com/download.tensorflow.org/models/inception5h.zip\"\n",
    "data_dir = os.path.expanduser(\"~/inception/5h/\")\n",
    "file_path = os.path.join(data_dir, 'inception5h.zip')\n",
    "\n",
    "if not os.path.exists(file_path):\n",
    "    # Check if the download directory exists, otherwise create it.\n",
    "    if not os.path.exists(data_dir):\n",
    "        os.makedirs(data_dir)\n",
    "    # Download\n",
    "    with open(file_path, \"wb\") as local_file:\n",
    "        local_file.write(urlopen(data_url).read())\n",
    "    # Extract\n",
    "    zipfile.ZipFile(file_path, mode=\"r\").extractall(data_dir)\n",
    "\n",
    "path = os.path.join(data_dir, \"tensorflow_inception_graph.pb\")\n",
    "with tf.gfile.FastGFile(path, 'rb') as f:\n",
    "    graph_def = tf.GraphDef()\n",
    "    graph_def.ParseFromString(f.read())\n",
    "    tf.import_graph_def(graph_def, name='')"
   ]
  },
  {
   "cell_type": "code",
   "execution_count": 6,
   "metadata": {},
   "outputs": [],
   "source": [
    "from tensorflow.keras.utils import to_categorical as one_hot\n",
    "X_train=train_images.reshape(len(train_images), -1)\n",
    "X_test=validation_images.reshape(len(validation_images), -1)\n",
    "\n",
    "y_train = one_hot(train_labels)"
   ]
  },
  {
   "cell_type": "markdown",
   "metadata": {},
   "source": [
    "In a transfer learning setup, we will use the first part of the trained network to process the original images, and then train a network to make predictions from the output of the trained network.  There are several ways to accomplish this.\n",
    "\n",
    "One approach is to connect the new layers to the output of the existing layers.  Data will flow through the pre-trained layers as well as those added.  In the training step, only the new layers should be marked as trainable.\n",
    "\n",
    "However, this can be a bit wasteful when multiple epochs of training will be undertaken.  With a smaller data set, such as this, it can be more efficient to pre-calculate the *latent vectors* that are the output of the pre-trained network.  These can be stored and used as input for training a smaller, separate network to make the predictions.  We recommend this approach for this miniproject.\n",
    "\n",
    "Images are to be fed to the `GoogLeNet` network's `input` tensor.  As a reminder, you can get that with the `get_tensor_by_name()` function:"
   ]
  },
  {
   "cell_type": "code",
   "execution_count": 7,
   "metadata": {},
   "outputs": [],
   "source": [
    "googlenet_input = sess.graph.get_tensor_by_name(\"input:0\")"
   ]
  },
  {
   "cell_type": "code",
   "execution_count": 8,
   "metadata": {},
   "outputs": [
    {
     "data": {
      "text/plain": [
       "TensorShape(None)"
      ]
     },
     "execution_count": 8,
     "metadata": {},
     "output_type": "execute_result"
    }
   ],
   "source": [
    "googlenet_input.shape"
   ]
  },
  {
   "cell_type": "markdown",
   "metadata": {},
   "source": [
    "If you check the shape of this tensor, you'll see that it's `TensorShape(None)`.  You can feed any tensor into it, and it will compute something.  To get a reasonable output, however, you should feed in the same format that it was trained with, a four-dimensional tensor of shape `[?, 224, 224, 3]`.\n",
    "\n",
    "This implies that we need to upscale our images from $32\\times32$ to $224\\times224$.  There are a number of ways to do this; the reference solution uses `scipy.ndimage.zoom()` with the `order=1` parameter.  (Higher orders produce better results, but will take significantly longer!)  The `GoogLeNet` network was trained with pixel values from 0 to 255, so you'll want to scale up the image values appropriately.\n",
    "\n",
    "You will also need to pick a layer from the `GoogLeNet` model to use as the input to your layers.  Since `GoogLeNet` was trained on images much like our data set, we can use a layer near the end.  You may want to take a look at the `mixed5b` layer (shape `[?, 7, 7, 1024]`) or the `avgpool0` layer (shape `[?, 1, 1, 1024]`).\n",
    "\n",
    "It may make sense to do the rescaling and latent vector calculation at the same time, to avoid storing the (somewhat large) rescaled images unnecessarily.  You also probably want to save those latent vectors to disk, to avoid the need to repeat this calculation later.\n",
    "\n",
    "**Hints:**\n",
    "- Be sure to batch this calculation; sending all 50,000 images through the `GoogLeNet` at once will cause memory errors.\n",
    "- The latent vector calculation took us about 2 hours on a single machine.  You might consider distributing the calculation.\n",
    "- The reference solution used latent vectors from the `avgpool0` layer.  The latent vectors for the first 10 images have an average of 778 non-zero values and an overall average value of 0.578."
   ]
  },
  {
   "cell_type": "code",
   "execution_count": 17,
   "metadata": {},
   "outputs": [
    {
     "data": {
      "text/plain": [
       "(1, 224, 224, 3)"
      ]
     },
     "execution_count": 17,
     "metadata": {},
     "output_type": "execute_result"
    }
   ],
   "source": [
    "from scipy import ndimage, misc\n",
    "result = ndimage.zoom(X_train[:1].reshape(1,32,32,3),(1,7,7,1), order=1)*256\n",
    "result.shape"
   ]
  },
  {
   "cell_type": "code",
   "execution_count": 18,
   "metadata": {},
   "outputs": [],
   "source": [
    "graph_output = sess.graph.get_tensor_by_name(\"output2:0\")\n",
    "res = sess.run(graph_output, {googlenet_input: result})"
   ]
  },
  {
   "cell_type": "code",
   "execution_count": 19,
   "metadata": {},
   "outputs": [
    {
     "name": "stdout",
     "output_type": "stream",
     "text": [
      "patas 0.40785483\n",
      "langur 0.12409485\n",
      "macaque 0.07645378\n",
      "squirrel monkey 0.06901842\n",
      "proboscis monkey 0.042796068\n"
     ]
    }
   ],
   "source": [
    "labels = [s.strip() for s in \n",
    "             open(os.path.join(data_dir, 'imagenet_comp_graph_label_strings.txt')).readlines()]\n",
    "labels[0:10]\n",
    "for i in res.argsort()[0][-1:-6:-1]:\n",
    "    print(labels[i], res[0,i])"
   ]
  },
  {
   "cell_type": "code",
   "execution_count": 20,
   "metadata": {},
   "outputs": [
    {
     "data": {
      "text/plain": [
       "<matplotlib.image.AxesImage at 0x7f82752d73c8>"
      ]
     },
     "execution_count": 20,
     "metadata": {},
     "output_type": "execute_result"
    },
    {
     "data": {
      "image/png": "[encoded data removed]",
      "text/plain": [
       "<Figure size 432x288 with 1 Axes>"
      ]
     },
     "metadata": {},
     "output_type": "display_data"
    }
   ],
   "source": [
    "matplotlib.pyplot.rcParams[\"axes.grid\"] = False  #  Remove the grid lines from the image.\n",
    "matplotlib.pyplot.imshow(X_train[:1].reshape(1,32,32,3)[0])"
   ]
  },
  {
   "cell_type": "markdown",
   "metadata": {},
   "source": [
    "With the latent vectors calculated, we can use them as input to train a small neural network to make the final predictions.\n",
    "\n",
    "**Hints:**\n",
    "- The reference solution has three layers.\n",
    "- The reference solution achieves a training accuracy of 87% and a test accuracy of 85%."
   ]
  },
  {
   "cell_type": "code",
   "execution_count": 9,
   "metadata": {},
   "outputs": [
    {
     "name": "stdout",
     "output_type": "stream",
     "text": [
      "==================\n",
      "Your score:  0.7498534755597235\n",
      "==================\n"
     ]
    }
   ],
   "source": [
    "#predicted_classes = return [0]*len(validation_images)\n",
    "predicted_classes = pred_q5\n",
    "grader.score('tf__transfer_learning', predicted_classes)"
   ]
  },
  {
   "cell_type": "markdown",
   "metadata": {},
   "source": [
    "*Copyright &copy; 2019 The Data Incubator.  All rights reserved.*"
   ]
  }
 ],
 "metadata": {
  "kernelspec": {
   "display_name": "Python 3",
   "language": "python",
   "name": "python3"
  },
  "language_info": {
   "codemirror_mode": {
    "name": "ipython",
    "version": 3
   },
   "file_extension": ".py",
   "mimetype": "text/x-python",
   "name": "python",
   "nbconvert_exporter": "python",
   "pygments_lexer": "ipython3",
   "version": "3.7.2"
  },
  "nbclean": true
 },
 "nbformat": 4,
 "nbformat_minor": 1
}
